{
 "cells": [
  {
   "cell_type": "markdown",
   "id": "34ec0e33",
   "metadata": {
    "toc": true
   },
   "source": [
    "<h1>Table of Contents<span class=\"tocSkip\"></span></h1>\n",
    "<div class=\"toc\"><ul class=\"toc-item\"><li><span><a href=\"#导入所需要的包\" data-toc-modified-id=\"导入所需要的包-1\">导入所需要的包</a></span></li><li><span><a href=\"#其他行业数据处理分析\" data-toc-modified-id=\"其他行业数据处理分析-2\">其他行业数据处理分析</a></span><ul class=\"toc-item\"><li><span><a href=\"#数据预处理\" data-toc-modified-id=\"数据预处理-2.1\">数据预处理</a></span><ul class=\"toc-item\"><li><span><a href=\"#1.删除缺失值过多、没有意义的特征\" data-toc-modified-id=\"1.删除缺失值过多、没有意义的特征-2.1.1\">1.删除缺失值过多、没有意义的特征</a></span></li><li><span><a href=\"#2.缺失值填充、去除异常值、归一化数据\" data-toc-modified-id=\"2.缺失值填充、去除异常值、归一化数据-2.1.2\">2.缺失值填充、去除异常值、归一化数据</a></span></li></ul></li><li><span><a href=\"#数据特征的提取和筛选\" data-toc-modified-id=\"数据特征的提取和筛选-2.2\">数据特征的提取和筛选</a></span></li><li><span><a href=\"#不平衡数据处理\" data-toc-modified-id=\"不平衡数据处理-2.3\">不平衡数据处理</a></span></li><li><span><a href=\"#使用随机森林训练机器学习模型\" data-toc-modified-id=\"使用随机森林训练机器学习模型-2.4\">使用随机森林训练机器学习模型</a></span></li></ul></li><li><span><a href=\"#其他行业分类模型评价\" data-toc-modified-id=\"其他行业分类模型评价-3\">其他行业分类模型评价</a></span><ul class=\"toc-item\"><li><span><a href=\"#绘制混淆矩阵\" data-toc-modified-id=\"绘制混淆矩阵-3.1\">绘制混淆矩阵</a></span></li><li><span><a href=\"#ROC曲线AUC值\" data-toc-modified-id=\"ROC曲线AUC值-3.2\">ROC曲线AUC值</a></span></li></ul></li><li><span><a href=\"#预测其他行业第-6-年财务数据造假的上市公司\" data-toc-modified-id=\"预测其他行业第-6-年财务数据造假的上市公司-4\">预测其他行业第 6 年财务数据造假的上市公司</a></span></li></ul></div>"
   ]
  },
  {
   "cell_type": "markdown",
   "id": "d4b3d51b",
   "metadata": {},
   "source": [
    "# 导入所需要的包"
   ]
  },
  {
   "cell_type": "code",
   "execution_count": 1,
   "id": "742291ca",
   "metadata": {
    "ExecuteTime": {
     "end_time": "2021-06-18T19:43:38.749956Z",
     "start_time": "2021-06-18T19:43:37.567664Z"
    }
   },
   "outputs": [],
   "source": [
    "import joblib\n",
    "import pandas as pd\n",
    "import numpy as np\n",
    "import seaborn as sns\n",
    "from collections import Counter\n",
    "from sklearn.impute import KNNImputer\n",
    "from sklearn.preprocessing import MinMaxScaler,StandardScaler\n",
    "from sklearn.ensemble import RandomForestClassifier\n",
    "from sklearn.ensemble import ExtraTreesClassifier\n",
    "from sklearn.feature_selection import SelectFromModel\n",
    "from sklearn.metrics import accuracy_score,confusion_matrix,auc,roc_curve\n",
    "from sklearn.model_selection import train_test_split,GridSearchCV,StratifiedKFold\n",
    "from matplotlib import pyplot\n",
    "import matplotlib.pyplot as plt\n",
    "from imblearn.over_sampling import SMOTE \n",
    "from imblearn.under_sampling import RandomUnderSampler\n",
    "plt.rcParams['font.sans-serif']=['SimHei'] \n",
    "plt.rcParams['axes.unicode_minus']=False  "
   ]
  },
  {
   "cell_type": "markdown",
   "id": "243aeeb5",
   "metadata": {},
   "source": [
    "# 其他行业数据处理分析"
   ]
  },
  {
   "cell_type": "code",
   "execution_count": 2,
   "id": "0bcb42e5",
   "metadata": {
    "ExecuteTime": {
     "end_time": "2021-06-18T19:43:39.103319Z",
     "start_time": "2021-06-18T19:43:38.750770Z"
    }
   },
   "outputs": [
    {
     "data": {
      "text/html": [
       "<div>\n",
       "<style scoped>\n",
       "    .dataframe tbody tr th:only-of-type {\n",
       "        vertical-align: middle;\n",
       "    }\n",
       "\n",
       "    .dataframe tbody tr th {\n",
       "        vertical-align: top;\n",
       "    }\n",
       "\n",
       "    .dataframe thead th {\n",
       "        text-align: right;\n",
       "    }\n",
       "</style>\n",
       "<table border=\"1\" class=\"dataframe\">\n",
       "  <thead>\n",
       "    <tr style=\"text-align: right;\">\n",
       "      <th></th>\n",
       "      <th>股票代码_单位:nan</th>\n",
       "      <th>所属行业_单位:nan</th>\n",
       "      <th>实际披露时间_单位:nan</th>\n",
       "      <th>发布时间_单位:nan</th>\n",
       "      <th>报告截止日期_单位:nan</th>\n",
       "      <th>截止日期_单位:nan</th>\n",
       "      <th>报告类型_单位:nan</th>\n",
       "      <th>会计区间_单位:nan</th>\n",
       "      <th>合并标志：1-合并，2-母公司_单位:nan</th>\n",
       "      <th>会计准则_单位:nan</th>\n",
       "      <th>...</th>\n",
       "      <th>流动资产周转率_单位:次</th>\n",
       "      <th>营业周期_单位:天/次</th>\n",
       "      <th>存货周转率_单位:次</th>\n",
       "      <th>固定资产周转率_单位:次</th>\n",
       "      <th>固定资产合计周转率_单位:次</th>\n",
       "      <th>应付账款周转天数_单位:天/次</th>\n",
       "      <th>存货周转天数_单位:nan</th>\n",
       "      <th>总资产周转率_单位:次</th>\n",
       "      <th>应收账款周转率_单位:次</th>\n",
       "      <th>是否在当年造假_单位:nan</th>\n",
       "    </tr>\n",
       "  </thead>\n",
       "  <tbody>\n",
       "    <tr>\n",
       "      <th>0</th>\n",
       "      <td>9063</td>\n",
       "      <td>批发和零售业</td>\n",
       "      <td>3</td>\n",
       "      <td>3</td>\n",
       "      <td>2</td>\n",
       "      <td>1</td>\n",
       "      <td>A</td>\n",
       "      <td>12</td>\n",
       "      <td>1</td>\n",
       "      <td>CHAS_2007</td>\n",
       "      <td>...</td>\n",
       "      <td>1.3751</td>\n",
       "      <td>148.8938</td>\n",
       "      <td>7.4240</td>\n",
       "      <td>20.9362</td>\n",
       "      <td>15.2980</td>\n",
       "      <td>75.4337</td>\n",
       "      <td>48.4911</td>\n",
       "      <td>1.2774</td>\n",
       "      <td>3.5856</td>\n",
       "      <td>0.0</td>\n",
       "    </tr>\n",
       "    <tr>\n",
       "      <th>1</th>\n",
       "      <td>10083</td>\n",
       "      <td>信息传输、软件和信息技术服务业</td>\n",
       "      <td>4</td>\n",
       "      <td>4</td>\n",
       "      <td>4</td>\n",
       "      <td>1</td>\n",
       "      <td>A</td>\n",
       "      <td>12</td>\n",
       "      <td>1</td>\n",
       "      <td>CHAS_2007</td>\n",
       "      <td>...</td>\n",
       "      <td>NaN</td>\n",
       "      <td>NaN</td>\n",
       "      <td>NaN</td>\n",
       "      <td>NaN</td>\n",
       "      <td>NaN</td>\n",
       "      <td>NaN</td>\n",
       "      <td>NaN</td>\n",
       "      <td>NaN</td>\n",
       "      <td>NaN</td>\n",
       "      <td>0.0</td>\n",
       "    </tr>\n",
       "    <tr>\n",
       "      <th>2</th>\n",
       "      <td>15617</td>\n",
       "      <td>建筑业</td>\n",
       "      <td>3</td>\n",
       "      <td>3</td>\n",
       "      <td>2</td>\n",
       "      <td>1</td>\n",
       "      <td>A</td>\n",
       "      <td>12</td>\n",
       "      <td>1</td>\n",
       "      <td>CHAS_2007</td>\n",
       "      <td>...</td>\n",
       "      <td>NaN</td>\n",
       "      <td>NaN</td>\n",
       "      <td>NaN</td>\n",
       "      <td>NaN</td>\n",
       "      <td>NaN</td>\n",
       "      <td>NaN</td>\n",
       "      <td>NaN</td>\n",
       "      <td>NaN</td>\n",
       "      <td>NaN</td>\n",
       "      <td>0.0</td>\n",
       "    </tr>\n",
       "    <tr>\n",
       "      <th>3</th>\n",
       "      <td>21990</td>\n",
       "      <td>交通运输、仓储和邮政业</td>\n",
       "      <td>2</td>\n",
       "      <td>2</td>\n",
       "      <td>2</td>\n",
       "      <td>1</td>\n",
       "      <td>A</td>\n",
       "      <td>12</td>\n",
       "      <td>1</td>\n",
       "      <td>CHAS_2007</td>\n",
       "      <td>...</td>\n",
       "      <td>4.1610</td>\n",
       "      <td>57.1883</td>\n",
       "      <td>15.9442</td>\n",
       "      <td>172.8106</td>\n",
       "      <td>60.5845</td>\n",
       "      <td>17.7157</td>\n",
       "      <td>22.5788</td>\n",
       "      <td>2.8815</td>\n",
       "      <td>10.4018</td>\n",
       "      <td>0.0</td>\n",
       "    </tr>\n",
       "    <tr>\n",
       "      <th>4</th>\n",
       "      <td>34130</td>\n",
       "      <td>信息传输、软件和信息技术服务业</td>\n",
       "      <td>3</td>\n",
       "      <td>3</td>\n",
       "      <td>2</td>\n",
       "      <td>1</td>\n",
       "      <td>A</td>\n",
       "      <td>12</td>\n",
       "      <td>1</td>\n",
       "      <td>CHAS_2007</td>\n",
       "      <td>...</td>\n",
       "      <td>NaN</td>\n",
       "      <td>NaN</td>\n",
       "      <td>NaN</td>\n",
       "      <td>NaN</td>\n",
       "      <td>NaN</td>\n",
       "      <td>NaN</td>\n",
       "      <td>NaN</td>\n",
       "      <td>NaN</td>\n",
       "      <td>NaN</td>\n",
       "      <td>0.0</td>\n",
       "    </tr>\n",
       "  </tbody>\n",
       "</table>\n",
       "<p>5 rows × 364 columns</p>\n",
       "</div>"
      ],
      "text/plain": [
       "   股票代码_单位:nan      所属行业_单位:nan  实际披露时间_单位:nan  发布时间_单位:nan  报告截止日期_单位:nan  \\\n",
       "0         9063           批发和零售业              3            3              2   \n",
       "1        10083  信息传输、软件和信息技术服务业              4            4              4   \n",
       "2        15617              建筑业              3            3              2   \n",
       "3        21990      交通运输、仓储和邮政业              2            2              2   \n",
       "4        34130  信息传输、软件和信息技术服务业              3            3              2   \n",
       "\n",
       "   截止日期_单位:nan 报告类型_单位:nan  会计区间_单位:nan  合并标志：1-合并，2-母公司_单位:nan 会计准则_单位:nan  \\\n",
       "0            1           A           12                       1   CHAS_2007   \n",
       "1            1           A           12                       1   CHAS_2007   \n",
       "2            1           A           12                       1   CHAS_2007   \n",
       "3            1           A           12                       1   CHAS_2007   \n",
       "4            1           A           12                       1   CHAS_2007   \n",
       "\n",
       "   ... 流动资产周转率_单位:次  营业周期_单位:天/次  存货周转率_单位:次  固定资产周转率_单位:次  固定资产合计周转率_单位:次  \\\n",
       "0  ...       1.3751     148.8938      7.4240       20.9362         15.2980   \n",
       "1  ...          NaN          NaN         NaN           NaN             NaN   \n",
       "2  ...          NaN          NaN         NaN           NaN             NaN   \n",
       "3  ...       4.1610      57.1883     15.9442      172.8106         60.5845   \n",
       "4  ...          NaN          NaN         NaN           NaN             NaN   \n",
       "\n",
       "   应付账款周转天数_单位:天/次  存货周转天数_单位:nan  总资产周转率_单位:次  应收账款周转率_单位:次  是否在当年造假_单位:nan  \n",
       "0          75.4337        48.4911       1.2774        3.5856             0.0  \n",
       "1              NaN            NaN          NaN           NaN             0.0  \n",
       "2              NaN            NaN          NaN           NaN             0.0  \n",
       "3          17.7157        22.5788       2.8815       10.4018             0.0  \n",
       "4              NaN            NaN          NaN           NaN             0.0  \n",
       "\n",
       "[5 rows x 364 columns]"
      ]
     },
     "execution_count": 2,
     "metadata": {},
     "output_type": "execute_result"
    }
   ],
   "source": [
    "qitahangye_data=pd.read_csv(r\"其他行业.csv\")\n",
    "qitahangye_data.head()"
   ]
  },
  {
   "cell_type": "markdown",
   "id": "ecc420fc",
   "metadata": {},
   "source": [
    "## 数据预处理"
   ]
  },
  {
   "cell_type": "markdown",
   "id": "17ac5461",
   "metadata": {},
   "source": [
    "### 1.删除缺失值过多、没有意义的特征"
   ]
  },
  {
   "cell_type": "code",
   "execution_count": 3,
   "id": "99a449db",
   "metadata": {
    "ExecuteTime": {
     "end_time": "2021-06-18T19:43:39.179467Z",
     "start_time": "2021-06-18T19:43:39.104278Z"
    }
   },
   "outputs": [
    {
     "name": "stdout",
     "output_type": "stream",
     "text": [
      "删除了248列\n",
      "保留了116列\n"
     ]
    }
   ],
   "source": [
    "def Delete_LoseRate_Column(data,lose_rate):\n",
    "    regular_list = []\n",
    "    nan_list = []\n",
    "    for i in list(data.columns):\n",
    "        if data[i].isnull().sum()/(data.shape[0]-1) <= lose_rate:#-1不影响\n",
    "            regular_list.append(i)\n",
    "        else:\n",
    "            nan_list.append(i)\n",
    "    return regular_list,nan_list\n",
    "\n",
    "lose_rate = 0.6\n",
    "name_list,delete_list=Delete_LoseRate_Column(qitahangye_data,lose_rate)\n",
    "qitahangye_data=qitahangye_data[name_list]\n",
    "print(\"删除了\"+str(len(delete_list))+\"列\")\n",
    "print(\"保留了\"+str(len(name_list))+\"列\")"
   ]
  },
  {
   "cell_type": "code",
   "execution_count": 4,
   "id": "e01cba80",
   "metadata": {
    "ExecuteTime": {
     "end_time": "2021-06-18T19:43:39.185416Z",
     "start_time": "2021-06-18T19:43:39.180428Z"
    }
   },
   "outputs": [],
   "source": [
    "#删除非数字的、从头到尾一个值的、明显没有分类意义的\n",
    "def FindToBeDelete_Col(company_data):\n",
    "    NotNumCol_List = [col for col in company_data.columns.values if company_data[col].dtype == 'object']\n",
    "    SameElemCol_List = [col for col in list(company_data.columns) if len(set(company_data[col]))==1]\n",
    "    NoSense_List=list(company_data.columns[:6])#+list(company_data.columns[-1:])\n",
    "    ToBeDelete_Col=list(set(NotNumCol_List).union(set(SameElemCol_List),set(NoSense_List)))\n",
    "    return ToBeDelete_Col"
   ]
  },
  {
   "cell_type": "code",
   "execution_count": 5,
   "id": "85577222",
   "metadata": {
    "ExecuteTime": {
     "end_time": "2021-06-18T19:43:41.876247Z",
     "start_time": "2021-06-18T19:43:39.186413Z"
    }
   },
   "outputs": [],
   "source": [
    "ToBeDelete_Col=FindToBeDelete_Col(qitahangye_data)\n",
    "qitahangye_data2=qitahangye_data.drop(ToBeDelete_Col,axis=1)"
   ]
  },
  {
   "cell_type": "code",
   "execution_count": 6,
   "id": "e9a3ebbc",
   "metadata": {
    "ExecuteTime": {
     "end_time": "2021-06-18T19:43:41.908460Z",
     "start_time": "2021-06-18T19:43:41.877001Z"
    }
   },
   "outputs": [
    {
     "data": {
      "text/html": [
       "<div>\n",
       "<style scoped>\n",
       "    .dataframe tbody tr th:only-of-type {\n",
       "        vertical-align: middle;\n",
       "    }\n",
       "\n",
       "    .dataframe tbody tr th {\n",
       "        vertical-align: top;\n",
       "    }\n",
       "\n",
       "    .dataframe thead th {\n",
       "        text-align: right;\n",
       "    }\n",
       "</style>\n",
       "<table border=\"1\" class=\"dataframe\">\n",
       "  <thead>\n",
       "    <tr style=\"text-align: right;\">\n",
       "      <th></th>\n",
       "      <th>货币资金_单位:元</th>\n",
       "      <th>应收票据_单位:元</th>\n",
       "      <th>应收账款_单位:元</th>\n",
       "      <th>预付款项_单位:元</th>\n",
       "      <th>其他应收款_单位:元</th>\n",
       "      <th>存货_单位:元</th>\n",
       "      <th>其他流动资产_单位:元</th>\n",
       "      <th>流动资产合计_单位:元</th>\n",
       "      <th>可供出售金融资产_单位:元</th>\n",
       "      <th>长期股权投资_单位:元</th>\n",
       "      <th>...</th>\n",
       "      <th>净利润(净亏损以“－”号填列)_单位:元</th>\n",
       "      <th>营业税金及附加_单位:元</th>\n",
       "      <th>营业外支出_单位:元</th>\n",
       "      <th>持续经营净利润_单位:元</th>\n",
       "      <th>归属于少数股东的综合收益总额_单位:元</th>\n",
       "      <th>所得税费用_单位:元</th>\n",
       "      <th>营业外收入_单位:元</th>\n",
       "      <th>少数股东损益_单位:元</th>\n",
       "      <th>营业总成本_单位:元</th>\n",
       "      <th>是否在当年造假_单位:nan</th>\n",
       "    </tr>\n",
       "  </thead>\n",
       "  <tbody>\n",
       "    <tr>\n",
       "      <th>0</th>\n",
       "      <td>5.308711e+09</td>\n",
       "      <td>120140919.2</td>\n",
       "      <td>8.334355e+07</td>\n",
       "      <td>1.068590e+09</td>\n",
       "      <td>1.998471e+08</td>\n",
       "      <td>1.890696e+09</td>\n",
       "      <td>7465037.78</td>\n",
       "      <td>8.879169e+09</td>\n",
       "      <td>1.262229e+07</td>\n",
       "      <td>NaN</td>\n",
       "      <td>...</td>\n",
       "      <td>8.174721e+08</td>\n",
       "      <td>2.377917e+08</td>\n",
       "      <td>19997626.17</td>\n",
       "      <td>NaN</td>\n",
       "      <td>-997639.38</td>\n",
       "      <td>1.500600e+08</td>\n",
       "      <td>5.157056e+07</td>\n",
       "      <td>-997639.38</td>\n",
       "      <td>3.045615e+10</td>\n",
       "      <td>0.0</td>\n",
       "    </tr>\n",
       "    <tr>\n",
       "      <th>1</th>\n",
       "      <td>3.929683e+07</td>\n",
       "      <td>NaN</td>\n",
       "      <td>3.117961e+08</td>\n",
       "      <td>1.379073e+06</td>\n",
       "      <td>2.154801e+06</td>\n",
       "      <td>4.826158e+07</td>\n",
       "      <td>NaN</td>\n",
       "      <td>4.028884e+08</td>\n",
       "      <td>NaN</td>\n",
       "      <td>NaN</td>\n",
       "      <td>...</td>\n",
       "      <td>3.682732e+07</td>\n",
       "      <td>7.915864e+06</td>\n",
       "      <td>382566.13</td>\n",
       "      <td>NaN</td>\n",
       "      <td>NaN</td>\n",
       "      <td>1.322933e+07</td>\n",
       "      <td>1.030374e+06</td>\n",
       "      <td>NaN</td>\n",
       "      <td>3.054139e+08</td>\n",
       "      <td>0.0</td>\n",
       "    </tr>\n",
       "    <tr>\n",
       "      <th>2</th>\n",
       "      <td>8.052528e+09</td>\n",
       "      <td>13051800.0</td>\n",
       "      <td>2.403950e+09</td>\n",
       "      <td>1.119295e+09</td>\n",
       "      <td>1.184279e+08</td>\n",
       "      <td>1.982253e+09</td>\n",
       "      <td>71605093.58</td>\n",
       "      <td>1.376111e+10</td>\n",
       "      <td>2.170486e+08</td>\n",
       "      <td>1.072606e+08</td>\n",
       "      <td>...</td>\n",
       "      <td>7.087116e+08</td>\n",
       "      <td>7.125510e+06</td>\n",
       "      <td>31155887.39</td>\n",
       "      <td>NaN</td>\n",
       "      <td>-57356195.41</td>\n",
       "      <td>1.514644e+08</td>\n",
       "      <td>4.451186e+06</td>\n",
       "      <td>-9765095.71</td>\n",
       "      <td>8.312055e+09</td>\n",
       "      <td>0.0</td>\n",
       "    </tr>\n",
       "    <tr>\n",
       "      <th>3</th>\n",
       "      <td>7.174299e+08</td>\n",
       "      <td>48117321.5</td>\n",
       "      <td>5.491743e+08</td>\n",
       "      <td>1.281890e+08</td>\n",
       "      <td>1.120131e+08</td>\n",
       "      <td>3.222185e+08</td>\n",
       "      <td>60000000.00</td>\n",
       "      <td>1.939898e+09</td>\n",
       "      <td>4.196550e+07</td>\n",
       "      <td>8.180806e+07</td>\n",
       "      <td>...</td>\n",
       "      <td>3.617678e+08</td>\n",
       "      <td>1.423113e+07</td>\n",
       "      <td>5117440.40</td>\n",
       "      <td>NaN</td>\n",
       "      <td>32462794.22</td>\n",
       "      <td>1.159928e+08</td>\n",
       "      <td>2.454146e+08</td>\n",
       "      <td>32462794.22</td>\n",
       "      <td>4.568449e+09</td>\n",
       "      <td>0.0</td>\n",
       "    </tr>\n",
       "    <tr>\n",
       "      <th>4</th>\n",
       "      <td>1.901583e+09</td>\n",
       "      <td>25630000.0</td>\n",
       "      <td>1.796365e+08</td>\n",
       "      <td>2.507800e+08</td>\n",
       "      <td>5.027240e+07</td>\n",
       "      <td>2.452314e+08</td>\n",
       "      <td>56526100.00</td>\n",
       "      <td>2.709660e+09</td>\n",
       "      <td>1.200000e+07</td>\n",
       "      <td>2.699741e+08</td>\n",
       "      <td>...</td>\n",
       "      <td>7.292442e+08</td>\n",
       "      <td>9.310730e+07</td>\n",
       "      <td>30988600.00</td>\n",
       "      <td>NaN</td>\n",
       "      <td>38385900.00</td>\n",
       "      <td>0.000000e+00</td>\n",
       "      <td>1.216655e+08</td>\n",
       "      <td>38385900.00</td>\n",
       "      <td>3.323598e+09</td>\n",
       "      <td>0.0</td>\n",
       "    </tr>\n",
       "  </tbody>\n",
       "</table>\n",
       "<p>5 rows × 105 columns</p>\n",
       "</div>"
      ],
      "text/plain": [
       "      货币资金_单位:元    应收票据_单位:元     应收账款_单位:元     预付款项_单位:元    其他应收款_单位:元  \\\n",
       "0  5.308711e+09  120140919.2  8.334355e+07  1.068590e+09  1.998471e+08   \n",
       "1  3.929683e+07          NaN  3.117961e+08  1.379073e+06  2.154801e+06   \n",
       "2  8.052528e+09   13051800.0  2.403950e+09  1.119295e+09  1.184279e+08   \n",
       "3  7.174299e+08   48117321.5  5.491743e+08  1.281890e+08  1.120131e+08   \n",
       "4  1.901583e+09   25630000.0  1.796365e+08  2.507800e+08  5.027240e+07   \n",
       "\n",
       "        存货_单位:元  其他流动资产_单位:元   流动资产合计_单位:元  可供出售金融资产_单位:元   长期股权投资_单位:元  ...  \\\n",
       "0  1.890696e+09   7465037.78  8.879169e+09   1.262229e+07           NaN  ...   \n",
       "1  4.826158e+07          NaN  4.028884e+08            NaN           NaN  ...   \n",
       "2  1.982253e+09  71605093.58  1.376111e+10   2.170486e+08  1.072606e+08  ...   \n",
       "3  3.222185e+08  60000000.00  1.939898e+09   4.196550e+07  8.180806e+07  ...   \n",
       "4  2.452314e+08  56526100.00  2.709660e+09   1.200000e+07  2.699741e+08  ...   \n",
       "\n",
       "   净利润(净亏损以“－”号填列)_单位:元  营业税金及附加_单位:元   营业外支出_单位:元  持续经营净利润_单位:元  \\\n",
       "0          8.174721e+08  2.377917e+08  19997626.17           NaN   \n",
       "1          3.682732e+07  7.915864e+06    382566.13           NaN   \n",
       "2          7.087116e+08  7.125510e+06  31155887.39           NaN   \n",
       "3          3.617678e+08  1.423113e+07   5117440.40           NaN   \n",
       "4          7.292442e+08  9.310730e+07  30988600.00           NaN   \n",
       "\n",
       "   归属于少数股东的综合收益总额_单位:元    所得税费用_单位:元    营业外收入_单位:元  少数股东损益_单位:元    营业总成本_单位:元  \\\n",
       "0           -997639.38  1.500600e+08  5.157056e+07   -997639.38  3.045615e+10   \n",
       "1                  NaN  1.322933e+07  1.030374e+06          NaN  3.054139e+08   \n",
       "2         -57356195.41  1.514644e+08  4.451186e+06  -9765095.71  8.312055e+09   \n",
       "3          32462794.22  1.159928e+08  2.454146e+08  32462794.22  4.568449e+09   \n",
       "4          38385900.00  0.000000e+00  1.216655e+08  38385900.00  3.323598e+09   \n",
       "\n",
       "   是否在当年造假_单位:nan  \n",
       "0             0.0  \n",
       "1             0.0  \n",
       "2             0.0  \n",
       "3             0.0  \n",
       "4             0.0  \n",
       "\n",
       "[5 rows x 105 columns]"
      ]
     },
     "execution_count": 6,
     "metadata": {},
     "output_type": "execute_result"
    }
   ],
   "source": [
    "#把要预测的部分行（flag为nan）删掉\n",
    "qitahangye_data2=qitahangye_data2[pd.notnull(qitahangye_data2['是否在当年造假_单位:nan'])]#isnull\n",
    "qitahangye_data2.head()"
   ]
  },
  {
   "cell_type": "markdown",
   "id": "ae986ffc",
   "metadata": {},
   "source": [
    "### 2.缺失值填充、去除异常值、归一化数据"
   ]
  },
  {
   "cell_type": "code",
   "execution_count": 7,
   "id": "5c6d8133",
   "metadata": {
    "ExecuteTime": {
     "end_time": "2021-06-18T19:43:41.912451Z",
     "start_time": "2021-06-18T19:43:41.909457Z"
    }
   },
   "outputs": [],
   "source": [
    "#方便后面从列表变回dataframe\n",
    "qitahangye_data2_columns=qitahangye_data2.columns"
   ]
  },
  {
   "cell_type": "code",
   "execution_count": 8,
   "id": "f753adad",
   "metadata": {
    "ExecuteTime": {
     "end_time": "2021-06-18T19:43:58.425272Z",
     "start_time": "2021-06-18T19:43:41.914444Z"
    }
   },
   "outputs": [],
   "source": [
    "#调用KNN填充所有缺失数据\n",
    "imputer = KNNImputer(n_neighbors=1)\n",
    "qitahangye_data2= imputer.fit_transform(qitahangye_data2)\n",
    "#qitahangye_data2.fillna(0,inplace=True)"
   ]
  },
  {
   "cell_type": "code",
   "execution_count": 9,
   "id": "7ad54751",
   "metadata": {
    "ExecuteTime": {
     "end_time": "2021-06-18T19:43:58.510585Z",
     "start_time": "2021-06-18T19:43:58.427232Z"
    }
   },
   "outputs": [
    {
     "data": {
      "text/plain": [
       "Counter({0.0: 6060, 1.0: 83})"
      ]
     },
     "execution_count": 9,
     "metadata": {},
     "output_type": "execute_result"
    }
   ],
   "source": [
    "qitahangye_data2=pd.DataFrame(qitahangye_data2)\n",
    "Q1 = qitahangye_data2.quantile(0.25)\n",
    "Q3 =qitahangye_data2.quantile(0.75)\n",
    "IQR = Q3 - Q1\n",
    "nan_means_noproblem=qitahangye_data2[(qitahangye_data2 < (Q1 - 1.5 * IQR)) | (qitahangye_data2> (Q3 + 1.5 * IQR))]\n",
    "# 非空即异常\n",
    "rows_not_null = nan_means_noproblem.count(axis=1) \n",
    "problem_index=rows_not_null[rows_not_null>60].index\n",
    "selected_index=list(set(qitahangye_data2.index).difference(set(problem_index)))\n",
    "qitahangye_data2=qitahangye_data2.iloc[selected_index]\n",
    "#查看异常行数据的标签情况\n",
    "Counter(qitahangye_data2.iloc[:,-1])"
   ]
  },
  {
   "cell_type": "code",
   "execution_count": 10,
   "id": "38f7f664",
   "metadata": {
    "ExecuteTime": {
     "end_time": "2021-06-18T19:43:58.678070Z",
     "start_time": "2021-06-18T19:43:58.511543Z"
    }
   },
   "outputs": [
    {
     "data": {
      "image/png": "[encoded data removed]",
      "text/plain": [
       "<Figure size 432x288 with 1 Axes>"
      ]
     },
     "metadata": {
      "needs_background": "light"
     },
     "output_type": "display_data"
    }
   ],
   "source": [
    "Sorted_rows_num=rows_not_null.sort_values()\n",
    "Sorted_rows_num=Sorted_rows_num.reset_index(drop=True)\n",
    "plt.title(\"离群值行的离群值个数情况统计\")\n",
    "Sorted_rows_num.plot()\n",
    "plt.show()"
   ]
  },
  {
   "cell_type": "code",
   "execution_count": 11,
   "id": "dbd459f9",
   "metadata": {
    "ExecuteTime": {
     "end_time": "2021-06-18T19:43:58.712299Z",
     "start_time": "2021-06-18T19:43:58.679068Z"
    }
   },
   "outputs": [],
   "source": [
    "#标准化归一化\n",
    "sds=StandardScaler()\n",
    "qitahangye_data2=sds.fit_transform(qitahangye_data2)\n",
    "mms = MinMaxScaler()\n",
    "qitahangye_data2= mms.fit_transform(qitahangye_data2)"
   ]
  },
  {
   "cell_type": "markdown",
   "id": "9cc272eb",
   "metadata": {},
   "source": [
    "把qitahangye_data2变回dataframe的形式"
   ]
  },
  {
   "cell_type": "code",
   "execution_count": 12,
   "id": "3eaa10d3",
   "metadata": {
    "ExecuteTime": {
     "end_time": "2021-06-18T19:43:58.734278Z",
     "start_time": "2021-06-18T19:43:58.713298Z"
    }
   },
   "outputs": [
    {
     "data": {
      "text/html": [
       "<div>\n",
       "<style scoped>\n",
       "    .dataframe tbody tr th:only-of-type {\n",
       "        vertical-align: middle;\n",
       "    }\n",
       "\n",
       "    .dataframe tbody tr th {\n",
       "        vertical-align: top;\n",
       "    }\n",
       "\n",
       "    .dataframe thead th {\n",
       "        text-align: right;\n",
       "    }\n",
       "</style>\n",
       "<table border=\"1\" class=\"dataframe\">\n",
       "  <thead>\n",
       "    <tr style=\"text-align: right;\">\n",
       "      <th></th>\n",
       "      <th>货币资金_单位:元</th>\n",
       "      <th>应收票据_单位:元</th>\n",
       "      <th>应收账款_单位:元</th>\n",
       "      <th>预付款项_单位:元</th>\n",
       "      <th>其他应收款_单位:元</th>\n",
       "      <th>存货_单位:元</th>\n",
       "      <th>其他流动资产_单位:元</th>\n",
       "      <th>流动资产合计_单位:元</th>\n",
       "      <th>可供出售金融资产_单位:元</th>\n",
       "      <th>长期股权投资_单位:元</th>\n",
       "      <th>...</th>\n",
       "      <th>净利润(净亏损以“－”号填列)_单位:元</th>\n",
       "      <th>营业税金及附加_单位:元</th>\n",
       "      <th>营业外支出_单位:元</th>\n",
       "      <th>持续经营净利润_单位:元</th>\n",
       "      <th>归属于少数股东的综合收益总额_单位:元</th>\n",
       "      <th>所得税费用_单位:元</th>\n",
       "      <th>营业外收入_单位:元</th>\n",
       "      <th>少数股东损益_单位:元</th>\n",
       "      <th>营业总成本_单位:元</th>\n",
       "      <th>是否在当年造假_单位:nan</th>\n",
       "    </tr>\n",
       "  </thead>\n",
       "  <tbody>\n",
       "    <tr>\n",
       "      <th>0</th>\n",
       "      <td>0.071909</td>\n",
       "      <td>0.013455</td>\n",
       "      <td>0.004322</td>\n",
       "      <td>0.094669</td>\n",
       "      <td>0.019557</td>\n",
       "      <td>0.022371</td>\n",
       "      <td>0.000620</td>\n",
       "      <td>0.065267</td>\n",
       "      <td>0.000052</td>\n",
       "      <td>0.033194</td>\n",
       "      <td>...</td>\n",
       "      <td>0.489376</td>\n",
       "      <td>0.164103</td>\n",
       "      <td>0.056544</td>\n",
       "      <td>0.301682</td>\n",
       "      <td>0.591632</td>\n",
       "      <td>0.229178</td>\n",
       "      <td>0.012145</td>\n",
       "      <td>0.536449</td>\n",
       "      <td>0.150495</td>\n",
       "      <td>0.0</td>\n",
       "    </tr>\n",
       "    <tr>\n",
       "      <th>1</th>\n",
       "      <td>0.000532</td>\n",
       "      <td>0.001760</td>\n",
       "      <td>0.016169</td>\n",
       "      <td>0.000122</td>\n",
       "      <td>0.000211</td>\n",
       "      <td>0.000571</td>\n",
       "      <td>0.001246</td>\n",
       "      <td>0.002940</td>\n",
       "      <td>0.000007</td>\n",
       "      <td>0.000049</td>\n",
       "      <td>...</td>\n",
       "      <td>0.433120</td>\n",
       "      <td>0.040599</td>\n",
       "      <td>0.051121</td>\n",
       "      <td>0.242101</td>\n",
       "      <td>0.591647</td>\n",
       "      <td>0.163015</td>\n",
       "      <td>0.000243</td>\n",
       "      <td>0.536468</td>\n",
       "      <td>0.002051</td>\n",
       "      <td>0.0</td>\n",
       "    </tr>\n",
       "    <tr>\n",
       "      <th>2</th>\n",
       "      <td>0.109075</td>\n",
       "      <td>0.001462</td>\n",
       "      <td>0.124661</td>\n",
       "      <td>0.099161</td>\n",
       "      <td>0.011589</td>\n",
       "      <td>0.023455</td>\n",
       "      <td>0.005948</td>\n",
       "      <td>0.101164</td>\n",
       "      <td>0.000893</td>\n",
       "      <td>0.004169</td>\n",
       "      <td>...</td>\n",
       "      <td>0.481538</td>\n",
       "      <td>0.040174</td>\n",
       "      <td>0.059630</td>\n",
       "      <td>0.357656</td>\n",
       "      <td>0.579414</td>\n",
       "      <td>0.229857</td>\n",
       "      <td>0.001048</td>\n",
       "      <td>0.534120</td>\n",
       "      <td>0.041471</td>\n",
       "      <td>0.0</td>\n",
       "    </tr>\n",
       "    <tr>\n",
       "      <th>3</th>\n",
       "      <td>0.009718</td>\n",
       "      <td>0.005389</td>\n",
       "      <td>0.028478</td>\n",
       "      <td>0.011357</td>\n",
       "      <td>0.010962</td>\n",
       "      <td>0.003813</td>\n",
       "      <td>0.004984</td>\n",
       "      <td>0.014242</td>\n",
       "      <td>0.000173</td>\n",
       "      <td>0.003180</td>\n",
       "      <td>...</td>\n",
       "      <td>0.456536</td>\n",
       "      <td>0.043992</td>\n",
       "      <td>0.052430</td>\n",
       "      <td>0.247054</td>\n",
       "      <td>0.598885</td>\n",
       "      <td>0.212705</td>\n",
       "      <td>0.057796</td>\n",
       "      <td>0.545337</td>\n",
       "      <td>0.023039</td>\n",
       "      <td>0.0</td>\n",
       "    </tr>\n",
       "    <tr>\n",
       "      <th>4</th>\n",
       "      <td>0.025758</td>\n",
       "      <td>0.002870</td>\n",
       "      <td>0.009315</td>\n",
       "      <td>0.022217</td>\n",
       "      <td>0.004920</td>\n",
       "      <td>0.002902</td>\n",
       "      <td>0.004695</td>\n",
       "      <td>0.019902</td>\n",
       "      <td>0.000049</td>\n",
       "      <td>0.010494</td>\n",
       "      <td>...</td>\n",
       "      <td>0.483018</td>\n",
       "      <td>0.086369</td>\n",
       "      <td>0.059584</td>\n",
       "      <td>0.285312</td>\n",
       "      <td>0.600169</td>\n",
       "      <td>0.156618</td>\n",
       "      <td>0.028653</td>\n",
       "      <td>0.546911</td>\n",
       "      <td>0.016910</td>\n",
       "      <td>0.0</td>\n",
       "    </tr>\n",
       "  </tbody>\n",
       "</table>\n",
       "<p>5 rows × 105 columns</p>\n",
       "</div>"
      ],
      "text/plain": [
       "   货币资金_单位:元  应收票据_单位:元  应收账款_单位:元  预付款项_单位:元  其他应收款_单位:元   存货_单位:元  \\\n",
       "0   0.071909   0.013455   0.004322   0.094669    0.019557  0.022371   \n",
       "1   0.000532   0.001760   0.016169   0.000122    0.000211  0.000571   \n",
       "2   0.109075   0.001462   0.124661   0.099161    0.011589  0.023455   \n",
       "3   0.009718   0.005389   0.028478   0.011357    0.010962  0.003813   \n",
       "4   0.025758   0.002870   0.009315   0.022217    0.004920  0.002902   \n",
       "\n",
       "   其他流动资产_单位:元  流动资产合计_单位:元  可供出售金融资产_单位:元  长期股权投资_单位:元  ...  \\\n",
       "0     0.000620     0.065267       0.000052     0.033194  ...   \n",
       "1     0.001246     0.002940       0.000007     0.000049  ...   \n",
       "2     0.005948     0.101164       0.000893     0.004169  ...   \n",
       "3     0.004984     0.014242       0.000173     0.003180  ...   \n",
       "4     0.004695     0.019902       0.000049     0.010494  ...   \n",
       "\n",
       "   净利润(净亏损以“－”号填列)_单位:元  营业税金及附加_单位:元  营业外支出_单位:元  持续经营净利润_单位:元  \\\n",
       "0              0.489376      0.164103    0.056544      0.301682   \n",
       "1              0.433120      0.040599    0.051121      0.242101   \n",
       "2              0.481538      0.040174    0.059630      0.357656   \n",
       "3              0.456536      0.043992    0.052430      0.247054   \n",
       "4              0.483018      0.086369    0.059584      0.285312   \n",
       "\n",
       "   归属于少数股东的综合收益总额_单位:元  所得税费用_单位:元  营业外收入_单位:元  少数股东损益_单位:元  营业总成本_单位:元  \\\n",
       "0             0.591632    0.229178    0.012145     0.536449    0.150495   \n",
       "1             0.591647    0.163015    0.000243     0.536468    0.002051   \n",
       "2             0.579414    0.229857    0.001048     0.534120    0.041471   \n",
       "3             0.598885    0.212705    0.057796     0.545337    0.023039   \n",
       "4             0.600169    0.156618    0.028653     0.546911    0.016910   \n",
       "\n",
       "   是否在当年造假_单位:nan  \n",
       "0             0.0  \n",
       "1             0.0  \n",
       "2             0.0  \n",
       "3             0.0  \n",
       "4             0.0  \n",
       "\n",
       "[5 rows x 105 columns]"
      ]
     },
     "execution_count": 12,
     "metadata": {},
     "output_type": "execute_result"
    }
   ],
   "source": [
    "qitahangye_data2=pd.DataFrame(qitahangye_data2,columns=qitahangye_data2_columns)\n",
    "qitahangye_data2.head()"
   ]
  },
  {
   "cell_type": "code",
   "execution_count": 13,
   "id": "01553884",
   "metadata": {
    "ExecuteTime": {
     "end_time": "2021-06-18T19:43:58.743220Z",
     "start_time": "2021-06-18T19:43:58.735241Z"
    }
   },
   "outputs": [],
   "source": [
    "qitahangye_data2.iloc[:,-1]=qitahangye_data2.iloc[:,-1].astype('int')"
   ]
  },
  {
   "cell_type": "markdown",
   "id": "95976214",
   "metadata": {},
   "source": [
    "## 数据特征的提取和筛选"
   ]
  },
  {
   "cell_type": "markdown",
   "id": "e73d8bb1",
   "metadata": {},
   "source": [
    "高相关滤波（High Correlation filter）"
   ]
  },
  {
   "cell_type": "code",
   "execution_count": 14,
   "id": "c8a84632",
   "metadata": {
    "ExecuteTime": {
     "end_time": "2021-06-18T19:43:58.938592Z",
     "start_time": "2021-06-18T19:43:58.744216Z"
    }
   },
   "outputs": [
    {
     "name": "stdout",
     "output_type": "stream",
     "text": [
      "处理之后特征的个数变为： 75\n"
     ]
    }
   ],
   "source": [
    "def HighCorrelationFilter(data,index_column):\n",
    "    corr = data.loc[:, index_column].corr()\n",
    "    for i in index_column:\n",
    "        for j in index_column:\n",
    "            if corr[i][j] > 0.8 and i != j:  # setting the threshold as 20%\n",
    "                index_column.remove(j)\n",
    "    new_columns = index_column\n",
    "    return new_columns\n",
    "\n",
    "qitahangye_data2_columns=HighCorrelationFilter(qitahangye_data2,list(qitahangye_data2_columns))\n",
    "qitahangye_feature_data=qitahangye_data2[qitahangye_data2_columns]\n",
    "print(\"处理之后特征的个数变为：\",len(qitahangye_data2_columns))"
   ]
  },
  {
   "cell_type": "code",
   "execution_count": 15,
   "id": "0bfd025f",
   "metadata": {
    "ExecuteTime": {
     "end_time": "2021-06-18T19:43:59.593445Z",
     "start_time": "2021-06-18T19:43:58.939590Z"
    }
   },
   "outputs": [
    {
     "data": {
      "image/png": "[encoded data removed]",
      "text/plain": [
       "<Figure size 432x288 with 1 Axes>"
      ]
     },
     "metadata": {
      "needs_background": "light"
     },
     "output_type": "display_data"
    }
   ],
   "source": [
    "X = np.array(qitahangye_feature_data.iloc[:,:-1])\n",
    "y = np.array(qitahangye_feature_data['是否在当年造假_单位:nan'])\n",
    "clf = ExtraTreesClassifier()\n",
    "clf = clf.fit(X, y)\n",
    "pd.Series(np.sort(clf.feature_importances_ )).plot()\n",
    "plt.title(\"特征的重要程度排序分布情况：\")\n",
    "plt.show()"
   ]
  },
  {
   "cell_type": "code",
   "execution_count": 16,
   "id": "f74766ca",
   "metadata": {
    "ExecuteTime": {
     "end_time": "2021-06-18T19:43:59.606375Z",
     "start_time": "2021-06-18T19:43:59.594407Z"
    },
    "scrolled": true
   },
   "outputs": [
    {
     "name": "stdout",
     "output_type": "stream",
     "text": [
      "前十个重要的特征： ['营业外支出_单位:元', '资产减值损失_单位:元', '应付利息_单位:元', '稀释每股收益_单位:元', '资产处置收益_单位:元', '处置固定资产、无形资产和其他长期资产收回的现金净额_单位:元', '未分配利润_单位:元', '归属于母公司所有者(或股东)的净利润_单位:元', '财务费用_单位:元', '一年内到期的非流动负债_单位:元']\n"
     ]
    }
   ],
   "source": [
    "arr = np.array(clf.feature_importances_  )\n",
    "vital_columns=[qitahangye_feature_data.columns[i] for i in np.argsort(-arr)]\n",
    "print(\"前十个重要的特征：\",vital_columns[:10])"
   ]
  },
  {
   "cell_type": "code",
   "execution_count": 17,
   "id": "9bc5bd7c",
   "metadata": {
    "ExecuteTime": {
     "end_time": "2021-06-18T19:43:59.621374Z",
     "start_time": "2021-06-18T19:43:59.607374Z"
    }
   },
   "outputs": [
    {
     "data": {
      "text/html": [
       "<div>\n",
       "<style scoped>\n",
       "    .dataframe tbody tr th:only-of-type {\n",
       "        vertical-align: middle;\n",
       "    }\n",
       "\n",
       "    .dataframe tbody tr th {\n",
       "        vertical-align: top;\n",
       "    }\n",
       "\n",
       "    .dataframe thead th {\n",
       "        text-align: right;\n",
       "    }\n",
       "</style>\n",
       "<table border=\"1\" class=\"dataframe\">\n",
       "  <thead>\n",
       "    <tr style=\"text-align: right;\">\n",
       "      <th></th>\n",
       "      <th>营业外支出_单位:元</th>\n",
       "      <th>应付利息_单位:元</th>\n",
       "      <th>稀释每股收益_单位:元</th>\n",
       "      <th>资产处置收益_单位:元</th>\n",
       "      <th>处置固定资产、无形资产和其他长期资产收回的现金净额_单位:元</th>\n",
       "      <th>未分配利润_单位:元</th>\n",
       "      <th>归属于母公司所有者(或股东)的净利润_单位:元</th>\n",
       "      <th>财务费用_单位:元</th>\n",
       "      <th>一年内到期的非流动负债_单位:元</th>\n",
       "      <th>是否在当年造假_单位:nan</th>\n",
       "    </tr>\n",
       "  </thead>\n",
       "  <tbody>\n",
       "    <tr>\n",
       "      <th>0</th>\n",
       "      <td>0.056544</td>\n",
       "      <td>0.000054</td>\n",
       "      <td>0.578947</td>\n",
       "      <td>0.230699</td>\n",
       "      <td>0.000015</td>\n",
       "      <td>0.396894</td>\n",
       "      <td>0.429469</td>\n",
       "      <td>0.081280</td>\n",
       "      <td>0.001046</td>\n",
       "      <td>0</td>\n",
       "    </tr>\n",
       "    <tr>\n",
       "      <th>1</th>\n",
       "      <td>0.051121</td>\n",
       "      <td>0.000009</td>\n",
       "      <td>0.458280</td>\n",
       "      <td>0.230236</td>\n",
       "      <td>0.000003</td>\n",
       "      <td>0.320982</td>\n",
       "      <td>0.366524</td>\n",
       "      <td>0.082804</td>\n",
       "      <td>0.000000</td>\n",
       "      <td>0</td>\n",
       "    </tr>\n",
       "    <tr>\n",
       "      <th>2</th>\n",
       "      <td>0.059630</td>\n",
       "      <td>0.000014</td>\n",
       "      <td>0.498716</td>\n",
       "      <td>0.228572</td>\n",
       "      <td>0.000021</td>\n",
       "      <td>0.374447</td>\n",
       "      <td>0.421417</td>\n",
       "      <td>0.078249</td>\n",
       "      <td>0.000340</td>\n",
       "      <td>0</td>\n",
       "    </tr>\n",
       "    <tr>\n",
       "      <th>3</th>\n",
       "      <td>0.052430</td>\n",
       "      <td>0.000259</td>\n",
       "      <td>0.478177</td>\n",
       "      <td>0.233889</td>\n",
       "      <td>0.000431</td>\n",
       "      <td>0.354766</td>\n",
       "      <td>0.390077</td>\n",
       "      <td>0.080214</td>\n",
       "      <td>0.000992</td>\n",
       "      <td>0</td>\n",
       "    </tr>\n",
       "    <tr>\n",
       "      <th>4</th>\n",
       "      <td>0.059584</td>\n",
       "      <td>0.005610</td>\n",
       "      <td>0.456996</td>\n",
       "      <td>0.229563</td>\n",
       "      <td>0.000152</td>\n",
       "      <td>0.339944</td>\n",
       "      <td>0.419193</td>\n",
       "      <td>0.098699</td>\n",
       "      <td>0.000183</td>\n",
       "      <td>0</td>\n",
       "    </tr>\n",
       "  </tbody>\n",
       "</table>\n",
       "</div>"
      ],
      "text/plain": [
       "   营业外支出_单位:元  应付利息_单位:元  稀释每股收益_单位:元  资产处置收益_单位:元  \\\n",
       "0    0.056544   0.000054     0.578947     0.230699   \n",
       "1    0.051121   0.000009     0.458280     0.230236   \n",
       "2    0.059630   0.000014     0.498716     0.228572   \n",
       "3    0.052430   0.000259     0.478177     0.233889   \n",
       "4    0.059584   0.005610     0.456996     0.229563   \n",
       "\n",
       "   处置固定资产、无形资产和其他长期资产收回的现金净额_单位:元  未分配利润_单位:元  归属于母公司所有者(或股东)的净利润_单位:元  \\\n",
       "0                        0.000015    0.396894                 0.429469   \n",
       "1                        0.000003    0.320982                 0.366524   \n",
       "2                        0.000021    0.374447                 0.421417   \n",
       "3                        0.000431    0.354766                 0.390077   \n",
       "4                        0.000152    0.339944                 0.419193   \n",
       "\n",
       "   财务费用_单位:元  一年内到期的非流动负债_单位:元  是否在当年造假_单位:nan  \n",
       "0   0.081280          0.001046               0  \n",
       "1   0.082804          0.000000               0  \n",
       "2   0.078249          0.000340               0  \n",
       "3   0.080214          0.000992               0  \n",
       "4   0.098699          0.000183               0  "
      ]
     },
     "execution_count": 17,
     "metadata": {},
     "output_type": "execute_result"
    }
   ],
   "source": [
    "selected_features=vital_columns[:10]\n",
    "selected_features.append('是否在当年造假_单位:nan')\n",
    "selected_features.remove('资产减值损失_单位:元')\n",
    "qitahangye_feature_data=qitahangye_feature_data[selected_features]\n",
    "qitahangye_feature_data.head()"
   ]
  },
  {
   "cell_type": "markdown",
   "id": "05012bb2",
   "metadata": {},
   "source": [
    "## 不平衡数据处理"
   ]
  },
  {
   "cell_type": "code",
   "execution_count": 18,
   "id": "7ff797d9",
   "metadata": {
    "ExecuteTime": {
     "end_time": "2021-06-18T19:43:59.633305Z",
     "start_time": "2021-06-18T19:43:59.622333Z"
    }
   },
   "outputs": [
    {
     "data": {
      "text/plain": [
       "Counter({0: 6060, 1: 83})"
      ]
     },
     "execution_count": 18,
     "metadata": {},
     "output_type": "execute_result"
    }
   ],
   "source": [
    "Counter(qitahangye_feature_data['是否在当年造假_单位:nan'])"
   ]
  },
  {
   "cell_type": "code",
   "execution_count": 19,
   "id": "7500655d",
   "metadata": {
    "ExecuteTime": {
     "end_time": "2021-06-18T19:43:59.645273Z",
     "start_time": "2021-06-18T19:43:59.635298Z"
    }
   },
   "outputs": [],
   "source": [
    "X_train,X_test,y_train,y_test=train_test_split(qitahangye_feature_data.iloc[:,:-1],\n",
    "                                               qitahangye_feature_data['是否在当年造假_单位:nan'],\n",
    "                                               test_size=0.3, random_state=44)"
   ]
  },
  {
   "cell_type": "code",
   "execution_count": 20,
   "id": "83a1a219",
   "metadata": {
    "ExecuteTime": {
     "end_time": "2021-06-18T19:43:59.916312Z",
     "start_time": "2021-06-18T19:43:59.647272Z"
    }
   },
   "outputs": [
    {
     "name": "stdout",
     "output_type": "stream",
     "text": [
      "[(0, 3501), (1, 4103)]\n"
     ]
    }
   ],
   "source": [
    "from imblearn.combine import SMOTEENN\n",
    "smote_enn = SMOTEENN(random_state=0)\n",
    "X_train_resampled, y_train_resampled = smote_enn.fit_sample(X_train, y_train)\n",
    "\n",
    "print(sorted(Counter(y_train_resampled).items()))"
   ]
  },
  {
   "cell_type": "markdown",
   "id": "98c01312",
   "metadata": {},
   "source": [
    "## 使用随机森林训练机器学习模型"
   ]
  },
  {
   "cell_type": "code",
   "execution_count": 37,
   "id": "2a3ce39a",
   "metadata": {
    "ExecuteTime": {
     "end_time": "2021-06-18T19:44:29.908514Z",
     "start_time": "2021-06-18T19:44:29.715428Z"
    }
   },
   "outputs": [
    {
     "name": "stdout",
     "output_type": "stream",
     "text": [
      "0.6467715680954965\n"
     ]
    }
   ],
   "source": [
    "class_weight = dict({0:1, 1:1})\n",
    "forest = RandomForestClassifier(\n",
    "#与表单中的类关联的权重。如果没有给出，所有类都应该有一个权重。\n",
    "   class_weight=class_weight,\n",
    "#树的最大深度。如果没有，则扩展节点直到所有叶子\n",
    "            max_depth=8,\n",
    "            n_estimators=50,\n",
    "            min_samples_split=4,\n",
    "            min_samples_leaf=4,\n",
    "            min_weight_fraction_leaf=0.2,\n",
    "            random_state=8\n",
    "    \n",
    ")\n",
    "forest.fit(X_train_resampled, y_train_resampled)\n",
    "print(forest.score(X_test,y_test))#0.7best"
   ]
  },
  {
   "cell_type": "markdown",
   "id": "e1602927",
   "metadata": {},
   "source": [
    "# 其他行业分类模型评价"
   ]
  },
  {
   "cell_type": "markdown",
   "id": "7b3a15e0",
   "metadata": {},
   "source": [
    "## 绘制混淆矩阵"
   ]
  },
  {
   "cell_type": "code",
   "execution_count": 38,
   "id": "9865d302",
   "metadata": {
    "ExecuteTime": {
     "end_time": "2021-06-18T19:44:31.554202Z",
     "start_time": "2021-06-18T19:44:31.548217Z"
    }
   },
   "outputs": [],
   "source": [
    "def plot_confusion_matrix(confusion_mat):\n",
    "    plt.imshow(confusion_mat,interpolation='nearest',cmap=plt.cm.Paired)\n",
    "    plt.title('Confusion Matrix')\n",
    "    plt.colorbar()\n",
    "    tick_marks=np.arange(2)\n",
    "    plt.xticks(tick_marks,tick_marks)\n",
    "    plt.yticks(tick_marks,tick_marks)\n",
    "    plt.ylabel('True Label')\n",
    "    plt.xlabel('Predicted Label')\n",
    "    plt.show()"
   ]
  },
  {
   "cell_type": "code",
   "execution_count": 39,
   "id": "16aa760c",
   "metadata": {
    "ExecuteTime": {
     "end_time": "2021-06-18T19:44:31.945739Z",
     "start_time": "2021-06-18T19:44:31.938759Z"
    }
   },
   "outputs": [
    {
     "data": {
      "text/plain": [
       "Counter({0: 1819, 1: 24})"
      ]
     },
     "execution_count": 39,
     "metadata": {},
     "output_type": "execute_result"
    }
   ],
   "source": [
    "Counter(y_test)"
   ]
  },
  {
   "cell_type": "code",
   "execution_count": 40,
   "id": "9c5d420c",
   "metadata": {
    "ExecuteTime": {
     "end_time": "2021-06-18T19:44:32.525447Z",
     "start_time": "2021-06-18T19:44:32.387140Z"
    }
   },
   "outputs": [
    {
     "name": "stdout",
     "output_type": "stream",
     "text": [
      "[[1173  646]\n",
      " [   5   19]]\n"
     ]
    },
    {
     "data": {
      "image/png": "[encoded data removed]",
      "text/plain": [
       "<Figure size 432x288 with 2 Axes>"
      ]
     },
     "metadata": {
      "needs_background": "light"
     },
     "output_type": "display_data"
    }
   ],
   "source": [
    "y_pre = forest.predict(X_test)\n",
    "C=confusion_matrix(y_test, y_pre)\n",
    "print(C)\n",
    "plot_confusion_matrix(C)"
   ]
  },
  {
   "cell_type": "markdown",
   "id": "311bc682",
   "metadata": {},
   "source": [
    "## ROC曲线AUC值"
   ]
  },
  {
   "cell_type": "code",
   "execution_count": 41,
   "id": "09af41cb",
   "metadata": {
    "ExecuteTime": {
     "end_time": "2021-06-18T19:44:33.527204Z",
     "start_time": "2021-06-18T19:44:33.523215Z"
    }
   },
   "outputs": [],
   "source": [
    "fpr, tpr, thresholds=roc_curve(y_test, y_pre,pos_label=None,sample_weight=None,drop_intermediate=True)"
   ]
  },
  {
   "cell_type": "code",
   "execution_count": 42,
   "id": "c621589b",
   "metadata": {
    "ExecuteTime": {
     "end_time": "2021-06-18T19:44:33.944855Z",
     "start_time": "2021-06-18T19:44:33.939453Z"
    }
   },
   "outputs": [],
   "source": [
    "def plot_roc(labels, predict_prob,name):\n",
    "    false_positive_rate,true_positive_rate,thresholds=roc_curve(labels, predict_prob)\n",
    "    roc_auc=auc(false_positive_rate, true_positive_rate)\n",
    "    plt.title('ROC'+\"_\" +name)\n",
    "    plt.plot(false_positive_rate, true_positive_rate,'b',label='AUC = %0.4f'% roc_auc)\n",
    "    plt.legend(loc='lower right')\n",
    "    plt.plot([0,1],[0,1],'r--')\n",
    "    plt.ylabel('TPR')\n",
    "    plt.xlabel('FPR')\n",
    "    plt.show()"
   ]
  },
  {
   "cell_type": "code",
   "execution_count": 43,
   "id": "861d2cae",
   "metadata": {
    "ExecuteTime": {
     "end_time": "2021-06-18T19:44:34.558275Z",
     "start_time": "2021-06-18T19:44:34.426671Z"
    }
   },
   "outputs": [
    {
     "data": {
      "image/png": "[encoded data removed]",
      "text/plain": [
       "<Figure size 432x288 with 1 Axes>"
      ]
     },
     "metadata": {
      "needs_background": "light"
     },
     "output_type": "display_data"
    }
   ],
   "source": [
    "plt.figure()\n",
    "plot_roc(y_test, y_pre,'随机森林')\n",
    "#plot_roc(Ytest,y_pre_cgbc,'XGBoost')"
   ]
  },
  {
   "cell_type": "markdown",
   "id": "2541ea09",
   "metadata": {},
   "source": [
    "保存模型"
   ]
  },
  {
   "cell_type": "code",
   "execution_count": 44,
   "id": "b906c450",
   "metadata": {
    "ExecuteTime": {
     "end_time": "2021-06-18T19:44:35.772828Z",
     "start_time": "2021-06-18T19:44:35.738949Z"
    }
   },
   "outputs": [
    {
     "data": {
      "text/plain": [
       "['forest_其他行业.pkl']"
      ]
     },
     "execution_count": 44,
     "metadata": {},
     "output_type": "execute_result"
    }
   ],
   "source": [
    "joblib.dump(forest,\"forest_其他行业.pkl\")"
   ]
  },
  {
   "cell_type": "markdown",
   "id": "f307b5e4",
   "metadata": {},
   "source": [
    "# 预测其他行业第 6 年财务数据造假的上市公司"
   ]
  },
  {
   "cell_type": "code",
   "execution_count": 45,
   "id": "bbb1d8bb",
   "metadata": {
    "ExecuteTime": {
     "end_time": "2021-06-18T19:44:36.925718Z",
     "start_time": "2021-06-18T19:44:36.587355Z"
    }
   },
   "outputs": [],
   "source": [
    "qitahangye0 = pd.read_csv(r'其他行业.csv')\n",
    "qitahangye0=qitahangye0[pd.isnull(qitahangye0['是否在当年造假_单位:nan'])]\n",
    "qitahangye0=qitahangye0[['股票代码_单位:nan']+selected_features]\n",
    "qitahangye0=qitahangye0.reset_index(drop=\"True\")"
   ]
  },
  {
   "cell_type": "code",
   "execution_count": 46,
   "id": "b15b1096",
   "metadata": {
    "ExecuteTime": {
     "end_time": "2021-06-18T19:44:37.170895Z",
     "start_time": "2021-06-18T19:44:37.066175Z"
    }
   },
   "outputs": [],
   "source": [
    "qitahangye=qitahangye0.iloc[:,1:-1]\n",
    "#方便后面从列表变回dataframe\n",
    "qitahangye_columns=qitahangye.columns\n",
    "#调用KNN填充所有缺失数据\n",
    "imputer = KNNImputer(n_neighbors=1)\n",
    "qitahangye= imputer.fit_transform(qitahangye)\n",
    "qitahangye=pd.DataFrame(qitahangye)"
   ]
  },
  {
   "cell_type": "code",
   "execution_count": 47,
   "id": "5e13320f",
   "metadata": {
    "ExecuteTime": {
     "end_time": "2021-06-18T19:44:37.595749Z",
     "start_time": "2021-06-18T19:44:37.579252Z"
    }
   },
   "outputs": [],
   "source": [
    "#除掉异常值\n",
    "Q1 = qitahangye.quantile(0.25)\n",
    "Q3 =qitahangye.quantile(0.75)\n",
    "IQR = Q3 - Q1\n",
    "nan_means_noproblem=qitahangye[(qitahangye < (Q1 - 1.5 * IQR)) | (qitahangye> (Q3 + 1.5 * IQR))]\n",
    "rows_not_null = nan_means_noproblem.count(axis=1) \n",
    "problem_index=rows_not_null[rows_not_null>60].index\n",
    "selected_index=list(set(qitahangye.index).difference(set(problem_index)))\n",
    "qitahangye=qitahangye.iloc[selected_index]"
   ]
  },
  {
   "cell_type": "code",
   "execution_count": 48,
   "id": "576c13ee",
   "metadata": {
    "ExecuteTime": {
     "end_time": "2021-06-18T19:44:38.042747Z",
     "start_time": "2021-06-18T19:44:38.027753Z"
    }
   },
   "outputs": [
    {
     "data": {
      "text/html": [
       "<div>\n",
       "<style scoped>\n",
       "    .dataframe tbody tr th:only-of-type {\n",
       "        vertical-align: middle;\n",
       "    }\n",
       "\n",
       "    .dataframe tbody tr th {\n",
       "        vertical-align: top;\n",
       "    }\n",
       "\n",
       "    .dataframe thead th {\n",
       "        text-align: right;\n",
       "    }\n",
       "</style>\n",
       "<table border=\"1\" class=\"dataframe\">\n",
       "  <thead>\n",
       "    <tr style=\"text-align: right;\">\n",
       "      <th></th>\n",
       "      <th>营业外支出_单位:元</th>\n",
       "      <th>应付利息_单位:元</th>\n",
       "      <th>稀释每股收益_单位:元</th>\n",
       "      <th>资产处置收益_单位:元</th>\n",
       "      <th>处置固定资产、无形资产和其他长期资产收回的现金净额_单位:元</th>\n",
       "      <th>未分配利润_单位:元</th>\n",
       "      <th>归属于母公司所有者(或股东)的净利润_单位:元</th>\n",
       "      <th>财务费用_单位:元</th>\n",
       "      <th>一年内到期的非流动负债_单位:元</th>\n",
       "    </tr>\n",
       "  </thead>\n",
       "  <tbody>\n",
       "    <tr>\n",
       "      <th>0</th>\n",
       "      <td>0.004300</td>\n",
       "      <td>3.251203e-05</td>\n",
       "      <td>0.745186</td>\n",
       "      <td>0.641636</td>\n",
       "      <td>1.300526e-04</td>\n",
       "      <td>0.024202</td>\n",
       "      <td>0.026157</td>\n",
       "      <td>0.053414</td>\n",
       "      <td>0.000017</td>\n",
       "    </tr>\n",
       "    <tr>\n",
       "      <th>1</th>\n",
       "      <td>0.003114</td>\n",
       "      <td>7.168599e-06</td>\n",
       "      <td>0.639923</td>\n",
       "      <td>0.640708</td>\n",
       "      <td>2.824648e-07</td>\n",
       "      <td>0.020757</td>\n",
       "      <td>0.023594</td>\n",
       "      <td>0.050470</td>\n",
       "      <td>0.000373</td>\n",
       "    </tr>\n",
       "    <tr>\n",
       "      <th>2</th>\n",
       "      <td>0.003513</td>\n",
       "      <td>9.419796e-05</td>\n",
       "      <td>0.684211</td>\n",
       "      <td>0.637142</td>\n",
       "      <td>6.087911e-05</td>\n",
       "      <td>0.025146</td>\n",
       "      <td>0.027861</td>\n",
       "      <td>0.042497</td>\n",
       "      <td>0.000505</td>\n",
       "    </tr>\n",
       "    <tr>\n",
       "      <th>3</th>\n",
       "      <td>0.003068</td>\n",
       "      <td>8.383390e-07</td>\n",
       "      <td>0.679076</td>\n",
       "      <td>0.640723</td>\n",
       "      <td>1.691566e-07</td>\n",
       "      <td>0.020630</td>\n",
       "      <td>0.023603</td>\n",
       "      <td>0.050361</td>\n",
       "      <td>0.000013</td>\n",
       "    </tr>\n",
       "    <tr>\n",
       "      <th>4</th>\n",
       "      <td>0.004492</td>\n",
       "      <td>2.523035e-04</td>\n",
       "      <td>0.661104</td>\n",
       "      <td>0.644320</td>\n",
       "      <td>1.220479e-04</td>\n",
       "      <td>0.022592</td>\n",
       "      <td>0.025730</td>\n",
       "      <td>0.056905</td>\n",
       "      <td>0.000004</td>\n",
       "    </tr>\n",
       "  </tbody>\n",
       "</table>\n",
       "</div>"
      ],
      "text/plain": [
       "   营业外支出_单位:元     应付利息_单位:元  稀释每股收益_单位:元  资产处置收益_单位:元  \\\n",
       "0    0.004300  3.251203e-05     0.745186     0.641636   \n",
       "1    0.003114  7.168599e-06     0.639923     0.640708   \n",
       "2    0.003513  9.419796e-05     0.684211     0.637142   \n",
       "3    0.003068  8.383390e-07     0.679076     0.640723   \n",
       "4    0.004492  2.523035e-04     0.661104     0.644320   \n",
       "\n",
       "   处置固定资产、无形资产和其他长期资产收回的现金净额_单位:元  未分配利润_单位:元  归属于母公司所有者(或股东)的净利润_单位:元  \\\n",
       "0                    1.300526e-04    0.024202                 0.026157   \n",
       "1                    2.824648e-07    0.020757                 0.023594   \n",
       "2                    6.087911e-05    0.025146                 0.027861   \n",
       "3                    1.691566e-07    0.020630                 0.023603   \n",
       "4                    1.220479e-04    0.022592                 0.025730   \n",
       "\n",
       "   财务费用_单位:元  一年内到期的非流动负债_单位:元  \n",
       "0   0.053414          0.000017  \n",
       "1   0.050470          0.000373  \n",
       "2   0.042497          0.000505  \n",
       "3   0.050361          0.000013  \n",
       "4   0.056905          0.000004  "
      ]
     },
     "execution_count": 48,
     "metadata": {},
     "output_type": "execute_result"
    }
   ],
   "source": [
    "#标准化归一化\n",
    "sds=StandardScaler()\n",
    "qitahangye=sds.fit_transform(qitahangye)\n",
    "mms = MinMaxScaler()\n",
    "qitahangye= mms.fit_transform(qitahangye)\n",
    "qitahangye=pd.DataFrame(qitahangye,columns=qitahangye_columns)\n",
    "qitahangye.head()"
   ]
  },
  {
   "cell_type": "code",
   "execution_count": 49,
   "id": "8a707ba7",
   "metadata": {
    "ExecuteTime": {
     "end_time": "2021-06-18T19:44:38.479594Z",
     "start_time": "2021-06-18T19:44:38.466623Z"
    }
   },
   "outputs": [],
   "source": [
    "flag_list=forest.predict(qitahangye)"
   ]
  },
  {
   "cell_type": "code",
   "execution_count": 50,
   "id": "a6e6ca6a",
   "metadata": {
    "ExecuteTime": {
     "end_time": "2021-06-18T19:44:39.008360Z",
     "start_time": "2021-06-18T19:44:39.003516Z"
    }
   },
   "outputs": [
    {
     "data": {
      "text/plain": [
       "Counter({0: 1360, 1: 133})"
      ]
     },
     "execution_count": 50,
     "metadata": {},
     "output_type": "execute_result"
    }
   ],
   "source": [
    "qitahangye['预测是否在当年造假_单位:nan']=flag_list\n",
    "Counter(flag_list)"
   ]
  },
  {
   "cell_type": "code",
   "execution_count": 51,
   "id": "aed56c4c",
   "metadata": {
    "ExecuteTime": {
     "end_time": "2021-06-18T19:44:40.480595Z",
     "start_time": "2021-06-18T19:44:40.474614Z"
    }
   },
   "outputs": [],
   "source": [
    "qitahangye0[qitahangye['预测是否在当年造假_单位:nan']==1]['股票代码_单位:nan'].to_csv(\"result_3.csv\",index=False)"
   ]
  },
  {
   "cell_type": "code",
   "execution_count": null,
   "id": "062b7636",
   "metadata": {},
   "outputs": [],
   "source": []
  }
 ],
 "metadata": {
  "kernelspec": {
   "display_name": "Python 3",
   "language": "python",
   "name": "python3"
  },
  "language_info": {
   "codemirror_mode": {
    "name": "ipython",
    "version": 3
   },
   "file_extension": ".py",
   "mimetype": "text/x-python",
   "name": "python",
   "nbconvert_exporter": "python",
   "pygments_lexer": "ipython3",
   "version": "3.8.8"
  },
  "toc": {
   "base_numbering": 1,
   "nav_menu": {},
   "number_sections": false,
   "sideBar": true,
   "skip_h1_title": false,
   "title_cell": "Table of Contents",
   "title_sidebar": "Contents",
   "toc_cell": true,
   "toc_position": {
    "height": "calc(100% - 180px)",
    "left": "10px",
    "top": "150px",
    "width": "315.833px"
   },
   "toc_section_display": true,
   "toc_window_display": false
  }
 },
 "nbformat": 4,
 "nbformat_minor": 5
}
