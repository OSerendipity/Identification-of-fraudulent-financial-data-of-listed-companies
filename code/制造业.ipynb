{
 "cells": [
  {
   "cell_type": "markdown",
   "id": "3a192fd0",
   "metadata": {
    "toc": true
   },
   "source": [
    "<h1>Table of Contents<span class=\"tocSkip\"></span></h1>\n",
    "<div class=\"toc\"><ul class=\"toc-item\"><li><span><a href=\"#导入所需要的包\" data-toc-modified-id=\"导入所需要的包-1\">导入所需要的包</a></span></li><li><span><a href=\"#数据文件基本预处理\" data-toc-modified-id=\"数据文件基本预处理-2\">数据文件基本预处理</a></span></li><li><span><a href=\"#制造业数据处理分析\" data-toc-modified-id=\"制造业数据处理分析-3\">制造业数据处理分析</a></span><ul class=\"toc-item\"><li><span><a href=\"#数据时序性分析\" data-toc-modified-id=\"数据时序性分析-3.1\">数据时序性分析</a></span></li><li><span><a href=\"#数据预处理\" data-toc-modified-id=\"数据预处理-3.2\">数据预处理</a></span><ul class=\"toc-item\"><li><span><a href=\"#1.删除缺失值过多、没有意义的特征\" data-toc-modified-id=\"1.删除缺失值过多、没有意义的特征-3.2.1\">1.删除缺失值过多、没有意义的特征</a></span></li><li><span><a href=\"#2.缺失值填充、去除异常值、归一化数据\" data-toc-modified-id=\"2.缺失值填充、去除异常值、归一化数据-3.2.2\">2.缺失值填充、去除异常值、归一化数据</a></span></li></ul></li><li><span><a href=\"#数据特征的提取和筛选\" data-toc-modified-id=\"数据特征的提取和筛选-3.3\">数据特征的提取和筛选</a></span></li><li><span><a href=\"#不平衡数据处理\" data-toc-modified-id=\"不平衡数据处理-3.4\">不平衡数据处理</a></span></li><li><span><a href=\"#使用随机森林训练机器学习模型\" data-toc-modified-id=\"使用随机森林训练机器学习模型-3.5\">使用随机森林训练机器学习模型</a></span></li></ul></li><li><span><a href=\"#制造业分类模型评价\" data-toc-modified-id=\"制造业分类模型评价-4\">制造业分类模型评价</a></span><ul class=\"toc-item\"><li><span><a href=\"#绘制混淆矩阵\" data-toc-modified-id=\"绘制混淆矩阵-4.1\">绘制混淆矩阵</a></span></li><li><span><a href=\"#ROC曲线AUC值\" data-toc-modified-id=\"ROC曲线AUC值-4.2\">ROC曲线AUC值</a></span></li></ul></li><li><span><a href=\"#预测制造业第-6-年财务数据造假的上市公司\" data-toc-modified-id=\"预测制造业第-6-年财务数据造假的上市公司-5\">预测制造业第 6 年财务数据造假的上市公司</a></span></li></ul></div>"
   ]
  },
  {
   "cell_type": "markdown",
   "id": "d4b3d51b",
   "metadata": {},
   "source": [
    "# 导入所需要的包"
   ]
  },
  {
   "cell_type": "code",
   "execution_count": 1,
   "id": "742291ca",
   "metadata": {
    "ExecuteTime": {
     "end_time": "2021-06-20T09:04:49.204419Z",
     "start_time": "2021-06-20T09:04:44.410590Z"
    }
   },
   "outputs": [],
   "source": [
    "import joblib\n",
    "import pandas as pd\n",
    "import numpy as np\n",
    "import seaborn as sns\n",
    "from collections import Counter\n",
    "from sklearn.impute import KNNImputer\n",
    "from sklearn.preprocessing import MinMaxScaler,StandardScaler\n",
    "from sklearn.ensemble import RandomForestClassifier\n",
    "from sklearn.ensemble import ExtraTreesClassifier\n",
    "from sklearn.feature_selection import SelectFromModel\n",
    "from sklearn.metrics import accuracy_score,confusion_matrix,auc,roc_curve\n",
    "from sklearn.model_selection import train_test_split,GridSearchCV,StratifiedKFold\n",
    "from matplotlib import pyplot\n",
    "import matplotlib.pyplot as plt\n",
    "from imblearn.over_sampling import SMOTE \n",
    "from imblearn.under_sampling import RandomUnderSampler\n",
    "plt.rcParams['font.sans-serif']=['SimHei'] \n",
    "plt.rcParams['axes.unicode_minus']=False  "
   ]
  },
  {
   "cell_type": "markdown",
   "id": "142c42a6",
   "metadata": {},
   "source": [
    "# 数据文件基本预处理"
   ]
  },
  {
   "cell_type": "code",
   "execution_count": 2,
   "id": "163eb468",
   "metadata": {
    "ExecuteTime": {
     "end_time": "2021-06-20T09:04:52.772579Z",
     "start_time": "2021-06-20T09:04:49.207412Z"
    }
   },
   "outputs": [],
   "source": [
    "stock_code =  pd.read_excel(\"附件1.xlsx\")\n",
    "company_data = pd.read_csv(\"附件2.csv\")\n",
    "feature_name = pd.read_excel(\"附件3.xlsx\",index_col = '字段名')"
   ]
  },
  {
   "cell_type": "code",
   "execution_count": 3,
   "id": "a69d5c68",
   "metadata": {
    "ExecuteTime": {
     "end_time": "2021-06-20T09:04:54.108447Z",
     "start_time": "2021-06-20T09:04:52.778519Z"
    }
   },
   "outputs": [],
   "source": [
    "#股票代码化为int类型\n",
    "stock_code['股票代码']= [int(round(x)) for x in stock_code['股票代码']] \n",
    "#将特征全部替换成为中文\n",
    "name=list(company_data.columns)\n",
    "if name==list(feature_name.index):\n",
    "    company_data.columns = [str(feature_name.loc[i]['含义']) + \"_单位:\" + str(feature_name.loc[i]['单位']) for i in name]\n",
    "#添加所属行业\n",
    "code_data_dict = stock_code.set_index('股票代码').T.to_dict('list')\n",
    "industry = [code_data_dict[i][0] for i in list(company_data['股票代码_单位:nan'])]\n",
    "company_data.insert(1,'所属行业_单位:nan',industry)"
   ]
  },
  {
   "cell_type": "code",
   "execution_count": 4,
   "id": "d9f31227",
   "metadata": {
    "ExecuteTime": {
     "end_time": "2021-06-20T09:04:54.145349Z",
     "start_time": "2021-06-20T09:04:54.113883Z"
    }
   },
   "outputs": [
    {
     "data": {
      "text/plain": [
       "[('制造业', 13970),\n",
       " ('信息传输、软件和信息技术服务业', 1777),\n",
       " ('批发和零售业', 974),\n",
       " ('房地产业', 703),\n",
       " ('电力、热力、燃气及水生产和供应业', 682),\n",
       " ('金融业', 657),\n",
       " ('交通运输、仓储和邮政业', 599),\n",
       " ('建筑业', 556),\n",
       " ('采矿业', 453),\n",
       " ('水利、环境和公共设施管理业', 350),\n",
       " ('文化、体育和娱乐业', 338),\n",
       " ('租赁和商务服务业', 326),\n",
       " ('科学研究和技术服务业', 305),\n",
       " ('农、林、牧、渔业', 245),\n",
       " ('综合', 96),\n",
       " ('卫生和社会工作', 71),\n",
       " ('住宿和餐饮业', 56),\n",
       " ('教育', 50),\n",
       " ('居民服务、修理和其他服务业', 5)]"
      ]
     },
     "execution_count": 4,
     "metadata": {},
     "output_type": "execute_result"
    }
   ],
   "source": [
    "result =  Counter(company_data['所属行业_单位:nan'])\n",
    "result = sorted(result.items(), key=lambda item:item[1],reverse=True)\n",
    "result"
   ]
  },
  {
   "cell_type": "code",
   "execution_count": 5,
   "id": "f4d7022e",
   "metadata": {
    "ExecuteTime": {
     "end_time": "2021-06-20T09:05:05.683821Z",
     "start_time": "2021-06-20T09:04:54.148298Z"
    }
   },
   "outputs": [],
   "source": [
    "company_data[company_data['所属行业_单位:nan'] == '制造业'].to_csv(\"制造业.csv\",index = False,encoding='utf-8-sig')\n",
    "company_data[company_data['所属行业_单位:nan'] != '制造业'].to_csv(\"其他行业.csv\",index = False,encoding='utf-8-sig')"
   ]
  },
  {
   "cell_type": "markdown",
   "id": "243aeeb5",
   "metadata": {},
   "source": [
    "# 制造业数据处理分析"
   ]
  },
  {
   "cell_type": "code",
   "execution_count": 6,
   "id": "0bcb42e5",
   "metadata": {
    "ExecuteTime": {
     "end_time": "2021-06-20T09:05:07.282670Z",
     "start_time": "2021-06-20T09:05:05.687949Z"
    }
   },
   "outputs": [
    {
     "data": {
      "text/html": [
       "<div>\n",
       "<style scoped>\n",
       "    .dataframe tbody tr th:only-of-type {\n",
       "        vertical-align: middle;\n",
       "    }\n",
       "\n",
       "    .dataframe tbody tr th {\n",
       "        vertical-align: top;\n",
       "    }\n",
       "\n",
       "    .dataframe thead th {\n",
       "        text-align: right;\n",
       "    }\n",
       "</style>\n",
       "<table border=\"1\" class=\"dataframe\">\n",
       "  <thead>\n",
       "    <tr style=\"text-align: right;\">\n",
       "      <th></th>\n",
       "      <th>股票代码_单位:nan</th>\n",
       "      <th>所属行业_单位:nan</th>\n",
       "      <th>实际披露时间_单位:nan</th>\n",
       "      <th>发布时间_单位:nan</th>\n",
       "      <th>报告截止日期_单位:nan</th>\n",
       "      <th>截止日期_单位:nan</th>\n",
       "      <th>报告类型_单位:nan</th>\n",
       "      <th>会计区间_单位:nan</th>\n",
       "      <th>合并标志：1-合并，2-母公司_单位:nan</th>\n",
       "      <th>会计准则_单位:nan</th>\n",
       "      <th>...</th>\n",
       "      <th>流动资产周转率_单位:次</th>\n",
       "      <th>营业周期_单位:天/次</th>\n",
       "      <th>存货周转率_单位:次</th>\n",
       "      <th>固定资产周转率_单位:次</th>\n",
       "      <th>固定资产合计周转率_单位:次</th>\n",
       "      <th>应付账款周转天数_单位:天/次</th>\n",
       "      <th>存货周转天数_单位:nan</th>\n",
       "      <th>总资产周转率_单位:次</th>\n",
       "      <th>应收账款周转率_单位:次</th>\n",
       "      <th>是否在当年造假_单位:nan</th>\n",
       "    </tr>\n",
       "  </thead>\n",
       "  <tbody>\n",
       "    <tr>\n",
       "      <th>0</th>\n",
       "      <td>4019</td>\n",
       "      <td>制造业</td>\n",
       "      <td>3</td>\n",
       "      <td>3</td>\n",
       "      <td>2</td>\n",
       "      <td>1</td>\n",
       "      <td>A</td>\n",
       "      <td>12</td>\n",
       "      <td>1</td>\n",
       "      <td>CHAS_2007</td>\n",
       "      <td>...</td>\n",
       "      <td>NaN</td>\n",
       "      <td>NaN</td>\n",
       "      <td>NaN</td>\n",
       "      <td>NaN</td>\n",
       "      <td>NaN</td>\n",
       "      <td>NaN</td>\n",
       "      <td>NaN</td>\n",
       "      <td>NaN</td>\n",
       "      <td>NaN</td>\n",
       "      <td>0.0</td>\n",
       "    </tr>\n",
       "    <tr>\n",
       "      <th>1</th>\n",
       "      <td>8166</td>\n",
       "      <td>制造业</td>\n",
       "      <td>3</td>\n",
       "      <td>3</td>\n",
       "      <td>2</td>\n",
       "      <td>1</td>\n",
       "      <td>A</td>\n",
       "      <td>12</td>\n",
       "      <td>1</td>\n",
       "      <td>CHAS_2007</td>\n",
       "      <td>...</td>\n",
       "      <td>NaN</td>\n",
       "      <td>NaN</td>\n",
       "      <td>NaN</td>\n",
       "      <td>NaN</td>\n",
       "      <td>NaN</td>\n",
       "      <td>NaN</td>\n",
       "      <td>NaN</td>\n",
       "      <td>NaN</td>\n",
       "      <td>NaN</td>\n",
       "      <td>0.0</td>\n",
       "    </tr>\n",
       "    <tr>\n",
       "      <th>2</th>\n",
       "      <td>11737</td>\n",
       "      <td>制造业</td>\n",
       "      <td>3</td>\n",
       "      <td>3</td>\n",
       "      <td>2</td>\n",
       "      <td>1</td>\n",
       "      <td>A</td>\n",
       "      <td>12</td>\n",
       "      <td>1</td>\n",
       "      <td>CHAS_2007</td>\n",
       "      <td>...</td>\n",
       "      <td>NaN</td>\n",
       "      <td>NaN</td>\n",
       "      <td>NaN</td>\n",
       "      <td>NaN</td>\n",
       "      <td>NaN</td>\n",
       "      <td>NaN</td>\n",
       "      <td>NaN</td>\n",
       "      <td>NaN</td>\n",
       "      <td>NaN</td>\n",
       "      <td>0.0</td>\n",
       "    </tr>\n",
       "    <tr>\n",
       "      <th>3</th>\n",
       "      <td>16479</td>\n",
       "      <td>制造业</td>\n",
       "      <td>3</td>\n",
       "      <td>3</td>\n",
       "      <td>2</td>\n",
       "      <td>1</td>\n",
       "      <td>A</td>\n",
       "      <td>12</td>\n",
       "      <td>1</td>\n",
       "      <td>CHAS_2007</td>\n",
       "      <td>...</td>\n",
       "      <td>NaN</td>\n",
       "      <td>NaN</td>\n",
       "      <td>NaN</td>\n",
       "      <td>NaN</td>\n",
       "      <td>NaN</td>\n",
       "      <td>NaN</td>\n",
       "      <td>NaN</td>\n",
       "      <td>NaN</td>\n",
       "      <td>NaN</td>\n",
       "      <td>0.0</td>\n",
       "    </tr>\n",
       "    <tr>\n",
       "      <th>4</th>\n",
       "      <td>16842</td>\n",
       "      <td>制造业</td>\n",
       "      <td>4</td>\n",
       "      <td>4</td>\n",
       "      <td>3</td>\n",
       "      <td>1</td>\n",
       "      <td>A</td>\n",
       "      <td>12</td>\n",
       "      <td>1</td>\n",
       "      <td>CHAS_2007</td>\n",
       "      <td>...</td>\n",
       "      <td>NaN</td>\n",
       "      <td>NaN</td>\n",
       "      <td>NaN</td>\n",
       "      <td>NaN</td>\n",
       "      <td>NaN</td>\n",
       "      <td>NaN</td>\n",
       "      <td>NaN</td>\n",
       "      <td>NaN</td>\n",
       "      <td>NaN</td>\n",
       "      <td>0.0</td>\n",
       "    </tr>\n",
       "  </tbody>\n",
       "</table>\n",
       "<p>5 rows × 364 columns</p>\n",
       "</div>"
      ],
      "text/plain": [
       "   股票代码_单位:nan 所属行业_单位:nan  实际披露时间_单位:nan  发布时间_单位:nan  报告截止日期_单位:nan  \\\n",
       "0         4019         制造业              3            3              2   \n",
       "1         8166         制造业              3            3              2   \n",
       "2        11737         制造业              3            3              2   \n",
       "3        16479         制造业              3            3              2   \n",
       "4        16842         制造业              4            4              3   \n",
       "\n",
       "   截止日期_单位:nan 报告类型_单位:nan  会计区间_单位:nan  合并标志：1-合并，2-母公司_单位:nan 会计准则_单位:nan  \\\n",
       "0            1           A           12                       1   CHAS_2007   \n",
       "1            1           A           12                       1   CHAS_2007   \n",
       "2            1           A           12                       1   CHAS_2007   \n",
       "3            1           A           12                       1   CHAS_2007   \n",
       "4            1           A           12                       1   CHAS_2007   \n",
       "\n",
       "   ... 流动资产周转率_单位:次  营业周期_单位:天/次  存货周转率_单位:次  固定资产周转率_单位:次  固定资产合计周转率_单位:次  \\\n",
       "0  ...          NaN          NaN         NaN           NaN             NaN   \n",
       "1  ...          NaN          NaN         NaN           NaN             NaN   \n",
       "2  ...          NaN          NaN         NaN           NaN             NaN   \n",
       "3  ...          NaN          NaN         NaN           NaN             NaN   \n",
       "4  ...          NaN          NaN         NaN           NaN             NaN   \n",
       "\n",
       "   应付账款周转天数_单位:天/次  存货周转天数_单位:nan  总资产周转率_单位:次  应收账款周转率_单位:次  是否在当年造假_单位:nan  \n",
       "0              NaN            NaN          NaN           NaN             0.0  \n",
       "1              NaN            NaN          NaN           NaN             0.0  \n",
       "2              NaN            NaN          NaN           NaN             0.0  \n",
       "3              NaN            NaN          NaN           NaN             0.0  \n",
       "4              NaN            NaN          NaN           NaN             0.0  \n",
       "\n",
       "[5 rows x 364 columns]"
      ]
     },
     "execution_count": 6,
     "metadata": {},
     "output_type": "execute_result"
    }
   ],
   "source": [
    "zhizaoye_data=pd.read_csv(\"制造业.csv\")\n",
    "zhizaoye_data.head()"
   ]
  },
  {
   "cell_type": "code",
   "execution_count": 7,
   "id": "128c9829",
   "metadata": {
    "ExecuteTime": {
     "end_time": "2021-06-20T09:05:07.350516Z",
     "start_time": "2021-06-20T09:05:07.284759Z"
    }
   },
   "outputs": [
    {
     "data": {
      "text/html": [
       "<div>\n",
       "<style scoped>\n",
       "    .dataframe tbody tr th:only-of-type {\n",
       "        vertical-align: middle;\n",
       "    }\n",
       "\n",
       "    .dataframe tbody tr th {\n",
       "        vertical-align: top;\n",
       "    }\n",
       "\n",
       "    .dataframe thead th {\n",
       "        text-align: right;\n",
       "    }\n",
       "</style>\n",
       "<table border=\"1\" class=\"dataframe\">\n",
       "  <thead>\n",
       "    <tr style=\"text-align: right;\">\n",
       "      <th></th>\n",
       "      <th>股票代码_单位:nan</th>\n",
       "      <th>所属行业_单位:nan</th>\n",
       "      <th>实际披露时间_单位:nan</th>\n",
       "      <th>发布时间_单位:nan</th>\n",
       "      <th>报告截止日期_单位:nan</th>\n",
       "      <th>截止日期_单位:nan</th>\n",
       "      <th>报告类型_单位:nan</th>\n",
       "      <th>会计区间_单位:nan</th>\n",
       "      <th>合并标志：1-合并，2-母公司_单位:nan</th>\n",
       "      <th>会计准则_单位:nan</th>\n",
       "      <th>...</th>\n",
       "      <th>流动资产周转率_单位:次</th>\n",
       "      <th>营业周期_单位:天/次</th>\n",
       "      <th>存货周转率_单位:次</th>\n",
       "      <th>固定资产周转率_单位:次</th>\n",
       "      <th>固定资产合计周转率_单位:次</th>\n",
       "      <th>应付账款周转天数_单位:天/次</th>\n",
       "      <th>存货周转天数_单位:nan</th>\n",
       "      <th>总资产周转率_单位:次</th>\n",
       "      <th>应收账款周转率_单位:次</th>\n",
       "      <th>是否在当年造假_单位:nan</th>\n",
       "    </tr>\n",
       "  </thead>\n",
       "  <tbody>\n",
       "    <tr>\n",
       "      <th>0</th>\n",
       "      <td>4019</td>\n",
       "      <td>制造业</td>\n",
       "      <td>3</td>\n",
       "      <td>3</td>\n",
       "      <td>2</td>\n",
       "      <td>1</td>\n",
       "      <td>A</td>\n",
       "      <td>12</td>\n",
       "      <td>1</td>\n",
       "      <td>CHAS_2007</td>\n",
       "      <td>...</td>\n",
       "      <td>NaN</td>\n",
       "      <td>NaN</td>\n",
       "      <td>NaN</td>\n",
       "      <td>NaN</td>\n",
       "      <td>NaN</td>\n",
       "      <td>NaN</td>\n",
       "      <td>NaN</td>\n",
       "      <td>NaN</td>\n",
       "      <td>NaN</td>\n",
       "      <td>0.0</td>\n",
       "    </tr>\n",
       "    <tr>\n",
       "      <th>1</th>\n",
       "      <td>8166</td>\n",
       "      <td>制造业</td>\n",
       "      <td>3</td>\n",
       "      <td>3</td>\n",
       "      <td>2</td>\n",
       "      <td>1</td>\n",
       "      <td>A</td>\n",
       "      <td>12</td>\n",
       "      <td>1</td>\n",
       "      <td>CHAS_2007</td>\n",
       "      <td>...</td>\n",
       "      <td>NaN</td>\n",
       "      <td>NaN</td>\n",
       "      <td>NaN</td>\n",
       "      <td>NaN</td>\n",
       "      <td>NaN</td>\n",
       "      <td>NaN</td>\n",
       "      <td>NaN</td>\n",
       "      <td>NaN</td>\n",
       "      <td>NaN</td>\n",
       "      <td>0.0</td>\n",
       "    </tr>\n",
       "    <tr>\n",
       "      <th>2</th>\n",
       "      <td>11737</td>\n",
       "      <td>制造业</td>\n",
       "      <td>3</td>\n",
       "      <td>3</td>\n",
       "      <td>2</td>\n",
       "      <td>1</td>\n",
       "      <td>A</td>\n",
       "      <td>12</td>\n",
       "      <td>1</td>\n",
       "      <td>CHAS_2007</td>\n",
       "      <td>...</td>\n",
       "      <td>NaN</td>\n",
       "      <td>NaN</td>\n",
       "      <td>NaN</td>\n",
       "      <td>NaN</td>\n",
       "      <td>NaN</td>\n",
       "      <td>NaN</td>\n",
       "      <td>NaN</td>\n",
       "      <td>NaN</td>\n",
       "      <td>NaN</td>\n",
       "      <td>0.0</td>\n",
       "    </tr>\n",
       "    <tr>\n",
       "      <th>3</th>\n",
       "      <td>16479</td>\n",
       "      <td>制造业</td>\n",
       "      <td>3</td>\n",
       "      <td>3</td>\n",
       "      <td>2</td>\n",
       "      <td>1</td>\n",
       "      <td>A</td>\n",
       "      <td>12</td>\n",
       "      <td>1</td>\n",
       "      <td>CHAS_2007</td>\n",
       "      <td>...</td>\n",
       "      <td>NaN</td>\n",
       "      <td>NaN</td>\n",
       "      <td>NaN</td>\n",
       "      <td>NaN</td>\n",
       "      <td>NaN</td>\n",
       "      <td>NaN</td>\n",
       "      <td>NaN</td>\n",
       "      <td>NaN</td>\n",
       "      <td>NaN</td>\n",
       "      <td>0.0</td>\n",
       "    </tr>\n",
       "    <tr>\n",
       "      <th>4</th>\n",
       "      <td>16842</td>\n",
       "      <td>制造业</td>\n",
       "      <td>4</td>\n",
       "      <td>4</td>\n",
       "      <td>3</td>\n",
       "      <td>1</td>\n",
       "      <td>A</td>\n",
       "      <td>12</td>\n",
       "      <td>1</td>\n",
       "      <td>CHAS_2007</td>\n",
       "      <td>...</td>\n",
       "      <td>NaN</td>\n",
       "      <td>NaN</td>\n",
       "      <td>NaN</td>\n",
       "      <td>NaN</td>\n",
       "      <td>NaN</td>\n",
       "      <td>NaN</td>\n",
       "      <td>NaN</td>\n",
       "      <td>NaN</td>\n",
       "      <td>NaN</td>\n",
       "      <td>0.0</td>\n",
       "    </tr>\n",
       "    <tr>\n",
       "      <th>...</th>\n",
       "      <td>...</td>\n",
       "      <td>...</td>\n",
       "      <td>...</td>\n",
       "      <td>...</td>\n",
       "      <td>...</td>\n",
       "      <td>...</td>\n",
       "      <td>...</td>\n",
       "      <td>...</td>\n",
       "      <td>...</td>\n",
       "      <td>...</td>\n",
       "      <td>...</td>\n",
       "      <td>...</td>\n",
       "      <td>...</td>\n",
       "      <td>...</td>\n",
       "      <td>...</td>\n",
       "      <td>...</td>\n",
       "      <td>...</td>\n",
       "      <td>...</td>\n",
       "      <td>...</td>\n",
       "      <td>...</td>\n",
       "      <td>...</td>\n",
       "    </tr>\n",
       "    <tr>\n",
       "      <th>13965</th>\n",
       "      <td>4992204</td>\n",
       "      <td>制造业</td>\n",
       "      <td>7</td>\n",
       "      <td>7</td>\n",
       "      <td>7</td>\n",
       "      <td>6</td>\n",
       "      <td>A</td>\n",
       "      <td>12</td>\n",
       "      <td>1</td>\n",
       "      <td>CHAS_2007</td>\n",
       "      <td>...</td>\n",
       "      <td>NaN</td>\n",
       "      <td>NaN</td>\n",
       "      <td>NaN</td>\n",
       "      <td>NaN</td>\n",
       "      <td>NaN</td>\n",
       "      <td>NaN</td>\n",
       "      <td>NaN</td>\n",
       "      <td>NaN</td>\n",
       "      <td>NaN</td>\n",
       "      <td>NaN</td>\n",
       "    </tr>\n",
       "    <tr>\n",
       "      <th>13966</th>\n",
       "      <td>4992858</td>\n",
       "      <td>制造业</td>\n",
       "      <td>7</td>\n",
       "      <td>7</td>\n",
       "      <td>7</td>\n",
       "      <td>6</td>\n",
       "      <td>A</td>\n",
       "      <td>12</td>\n",
       "      <td>1</td>\n",
       "      <td>CHAS_2007</td>\n",
       "      <td>...</td>\n",
       "      <td>NaN</td>\n",
       "      <td>0.000</td>\n",
       "      <td>NaN</td>\n",
       "      <td>NaN</td>\n",
       "      <td>NaN</td>\n",
       "      <td>NaN</td>\n",
       "      <td>NaN</td>\n",
       "      <td>NaN</td>\n",
       "      <td>NaN</td>\n",
       "      <td>NaN</td>\n",
       "    </tr>\n",
       "    <tr>\n",
       "      <th>13967</th>\n",
       "      <td>4993201</td>\n",
       "      <td>制造业</td>\n",
       "      <td>7</td>\n",
       "      <td>7</td>\n",
       "      <td>7</td>\n",
       "      <td>6</td>\n",
       "      <td>A</td>\n",
       "      <td>12</td>\n",
       "      <td>1</td>\n",
       "      <td>CHAS_2007</td>\n",
       "      <td>...</td>\n",
       "      <td>NaN</td>\n",
       "      <td>NaN</td>\n",
       "      <td>NaN</td>\n",
       "      <td>NaN</td>\n",
       "      <td>NaN</td>\n",
       "      <td>NaN</td>\n",
       "      <td>NaN</td>\n",
       "      <td>NaN</td>\n",
       "      <td>NaN</td>\n",
       "      <td>NaN</td>\n",
       "    </tr>\n",
       "    <tr>\n",
       "      <th>13968</th>\n",
       "      <td>4998808</td>\n",
       "      <td>制造业</td>\n",
       "      <td>7</td>\n",
       "      <td>7</td>\n",
       "      <td>7</td>\n",
       "      <td>6</td>\n",
       "      <td>A</td>\n",
       "      <td>12</td>\n",
       "      <td>1</td>\n",
       "      <td>CHAS_2007</td>\n",
       "      <td>...</td>\n",
       "      <td>NaN</td>\n",
       "      <td>NaN</td>\n",
       "      <td>NaN</td>\n",
       "      <td>NaN</td>\n",
       "      <td>NaN</td>\n",
       "      <td>NaN</td>\n",
       "      <td>NaN</td>\n",
       "      <td>NaN</td>\n",
       "      <td>NaN</td>\n",
       "      <td>NaN</td>\n",
       "    </tr>\n",
       "    <tr>\n",
       "      <th>13969</th>\n",
       "      <td>4999709</td>\n",
       "      <td>制造业</td>\n",
       "      <td>7</td>\n",
       "      <td>7</td>\n",
       "      <td>7</td>\n",
       "      <td>6</td>\n",
       "      <td>A</td>\n",
       "      <td>12</td>\n",
       "      <td>1</td>\n",
       "      <td>CHAS_2007</td>\n",
       "      <td>...</td>\n",
       "      <td>2.6656</td>\n",
       "      <td>23.084</td>\n",
       "      <td>21.9179</td>\n",
       "      <td>0.6571</td>\n",
       "      <td>0.6256</td>\n",
       "      <td>33.6589</td>\n",
       "      <td>16.4249</td>\n",
       "      <td>0.3692</td>\n",
       "      <td>54.0618</td>\n",
       "      <td>NaN</td>\n",
       "    </tr>\n",
       "  </tbody>\n",
       "</table>\n",
       "<p>13970 rows × 364 columns</p>\n",
       "</div>"
      ],
      "text/plain": [
       "       股票代码_单位:nan 所属行业_单位:nan  实际披露时间_单位:nan  发布时间_单位:nan  报告截止日期_单位:nan  \\\n",
       "0             4019         制造业              3            3              2   \n",
       "1             8166         制造业              3            3              2   \n",
       "2            11737         制造业              3            3              2   \n",
       "3            16479         制造业              3            3              2   \n",
       "4            16842         制造业              4            4              3   \n",
       "...            ...         ...            ...          ...            ...   \n",
       "13965      4992204         制造业              7            7              7   \n",
       "13966      4992858         制造业              7            7              7   \n",
       "13967      4993201         制造业              7            7              7   \n",
       "13968      4998808         制造业              7            7              7   \n",
       "13969      4999709         制造业              7            7              7   \n",
       "\n",
       "       截止日期_单位:nan 报告类型_单位:nan  会计区间_单位:nan  合并标志：1-合并，2-母公司_单位:nan  \\\n",
       "0                1           A           12                       1   \n",
       "1                1           A           12                       1   \n",
       "2                1           A           12                       1   \n",
       "3                1           A           12                       1   \n",
       "4                1           A           12                       1   \n",
       "...            ...         ...          ...                     ...   \n",
       "13965            6           A           12                       1   \n",
       "13966            6           A           12                       1   \n",
       "13967            6           A           12                       1   \n",
       "13968            6           A           12                       1   \n",
       "13969            6           A           12                       1   \n",
       "\n",
       "      会计准则_单位:nan  ... 流动资产周转率_单位:次  营业周期_单位:天/次  存货周转率_单位:次  固定资产周转率_单位:次  \\\n",
       "0       CHAS_2007  ...          NaN          NaN         NaN           NaN   \n",
       "1       CHAS_2007  ...          NaN          NaN         NaN           NaN   \n",
       "2       CHAS_2007  ...          NaN          NaN         NaN           NaN   \n",
       "3       CHAS_2007  ...          NaN          NaN         NaN           NaN   \n",
       "4       CHAS_2007  ...          NaN          NaN         NaN           NaN   \n",
       "...           ...  ...          ...          ...         ...           ...   \n",
       "13965   CHAS_2007  ...          NaN          NaN         NaN           NaN   \n",
       "13966   CHAS_2007  ...          NaN        0.000         NaN           NaN   \n",
       "13967   CHAS_2007  ...          NaN          NaN         NaN           NaN   \n",
       "13968   CHAS_2007  ...          NaN          NaN         NaN           NaN   \n",
       "13969   CHAS_2007  ...       2.6656       23.084     21.9179        0.6571   \n",
       "\n",
       "       固定资产合计周转率_单位:次  应付账款周转天数_单位:天/次  存货周转天数_单位:nan  总资产周转率_单位:次  \\\n",
       "0                 NaN              NaN            NaN          NaN   \n",
       "1                 NaN              NaN            NaN          NaN   \n",
       "2                 NaN              NaN            NaN          NaN   \n",
       "3                 NaN              NaN            NaN          NaN   \n",
       "4                 NaN              NaN            NaN          NaN   \n",
       "...               ...              ...            ...          ...   \n",
       "13965             NaN              NaN            NaN          NaN   \n",
       "13966             NaN              NaN            NaN          NaN   \n",
       "13967             NaN              NaN            NaN          NaN   \n",
       "13968             NaN              NaN            NaN          NaN   \n",
       "13969          0.6256          33.6589        16.4249       0.3692   \n",
       "\n",
       "       应收账款周转率_单位:次  是否在当年造假_单位:nan  \n",
       "0               NaN             0.0  \n",
       "1               NaN             0.0  \n",
       "2               NaN             0.0  \n",
       "3               NaN             0.0  \n",
       "4               NaN             0.0  \n",
       "...             ...             ...  \n",
       "13965           NaN             NaN  \n",
       "13966           NaN             NaN  \n",
       "13967           NaN             NaN  \n",
       "13968           NaN             NaN  \n",
       "13969       54.0618             NaN  \n",
       "\n",
       "[13970 rows x 364 columns]"
      ]
     },
     "execution_count": 7,
     "metadata": {},
     "output_type": "execute_result"
    }
   ],
   "source": [
    "zhizaoye_data"
   ]
  },
  {
   "cell_type": "markdown",
   "id": "3fc5b3d2",
   "metadata": {},
   "source": [
    "## 数据时序性分析"
   ]
  },
  {
   "cell_type": "markdown",
   "id": "4c2fa2d3",
   "metadata": {},
   "source": [
    "这里，我们来看到，发布时间有 2-7 年。那么，是不是每一个企业，都有 2-7 年的数据呢？\n",
    "\n",
    "这个问题还是比较重要的，最完美的情况是，每一家企业都有 2-7 年的数据。这种情况下，在接下来的分析中，就不得不考虑数据是否有时序性了。换句话说，今年造假，是否和去年的数据有关（即使去年没造假）。\n",
    "\n",
    "基于这个理由，我们首先来看看每一个企业是否真的都有2-7年的数据："
   ]
  },
  {
   "cell_type": "code",
   "execution_count": 8,
   "id": "ce29f06c",
   "metadata": {
    "ExecuteTime": {
     "end_time": "2021-06-20T09:05:07.491113Z",
     "start_time": "2021-06-20T09:05:07.354504Z"
    }
   },
   "outputs": [
    {
     "data": {
      "text/html": [
       "<div>\n",
       "<style scoped>\n",
       "    .dataframe tbody tr th:only-of-type {\n",
       "        vertical-align: middle;\n",
       "    }\n",
       "\n",
       "    .dataframe tbody tr th {\n",
       "        vertical-align: top;\n",
       "    }\n",
       "\n",
       "    .dataframe thead th {\n",
       "        text-align: right;\n",
       "    }\n",
       "</style>\n",
       "<table border=\"1\" class=\"dataframe\">\n",
       "  <thead>\n",
       "    <tr style=\"text-align: right;\">\n",
       "      <th></th>\n",
       "      <th>所属行业_单位:nan</th>\n",
       "      <th>实际披露时间_单位:nan</th>\n",
       "      <th>发布时间_单位:nan</th>\n",
       "      <th>报告截止日期_单位:nan</th>\n",
       "      <th>截止日期_单位:nan</th>\n",
       "      <th>报告类型_单位:nan</th>\n",
       "      <th>会计区间_单位:nan</th>\n",
       "      <th>合并标志：1-合并，2-母公司_单位:nan</th>\n",
       "      <th>会计准则_单位:nan</th>\n",
       "      <th>货币代码_单位:nan</th>\n",
       "      <th>...</th>\n",
       "      <th>流动资产周转率_单位:次</th>\n",
       "      <th>营业周期_单位:天/次</th>\n",
       "      <th>存货周转率_单位:次</th>\n",
       "      <th>固定资产周转率_单位:次</th>\n",
       "      <th>固定资产合计周转率_单位:次</th>\n",
       "      <th>应付账款周转天数_单位:天/次</th>\n",
       "      <th>存货周转天数_单位:nan</th>\n",
       "      <th>总资产周转率_单位:次</th>\n",
       "      <th>应收账款周转率_单位:次</th>\n",
       "      <th>是否在当年造假_单位:nan</th>\n",
       "    </tr>\n",
       "    <tr>\n",
       "      <th>股票代码_单位:nan</th>\n",
       "      <th></th>\n",
       "      <th></th>\n",
       "      <th></th>\n",
       "      <th></th>\n",
       "      <th></th>\n",
       "      <th></th>\n",
       "      <th></th>\n",
       "      <th></th>\n",
       "      <th></th>\n",
       "      <th></th>\n",
       "      <th></th>\n",
       "      <th></th>\n",
       "      <th></th>\n",
       "      <th></th>\n",
       "      <th></th>\n",
       "      <th></th>\n",
       "      <th></th>\n",
       "      <th></th>\n",
       "      <th></th>\n",
       "      <th></th>\n",
       "      <th></th>\n",
       "    </tr>\n",
       "  </thead>\n",
       "  <tbody>\n",
       "    <tr>\n",
       "      <th>4019</th>\n",
       "      <td>6</td>\n",
       "      <td>6</td>\n",
       "      <td>6</td>\n",
       "      <td>6</td>\n",
       "      <td>6</td>\n",
       "      <td>6</td>\n",
       "      <td>6</td>\n",
       "      <td>6</td>\n",
       "      <td>6</td>\n",
       "      <td>6</td>\n",
       "      <td>...</td>\n",
       "      <td>0</td>\n",
       "      <td>0</td>\n",
       "      <td>0</td>\n",
       "      <td>0</td>\n",
       "      <td>0</td>\n",
       "      <td>0</td>\n",
       "      <td>0</td>\n",
       "      <td>0</td>\n",
       "      <td>0</td>\n",
       "      <td>5</td>\n",
       "    </tr>\n",
       "    <tr>\n",
       "      <th>4213</th>\n",
       "      <td>5</td>\n",
       "      <td>5</td>\n",
       "      <td>5</td>\n",
       "      <td>5</td>\n",
       "      <td>5</td>\n",
       "      <td>5</td>\n",
       "      <td>5</td>\n",
       "      <td>5</td>\n",
       "      <td>5</td>\n",
       "      <td>5</td>\n",
       "      <td>...</td>\n",
       "      <td>0</td>\n",
       "      <td>0</td>\n",
       "      <td>0</td>\n",
       "      <td>0</td>\n",
       "      <td>0</td>\n",
       "      <td>0</td>\n",
       "      <td>0</td>\n",
       "      <td>0</td>\n",
       "      <td>0</td>\n",
       "      <td>4</td>\n",
       "    </tr>\n",
       "    <tr>\n",
       "      <th>8166</th>\n",
       "      <td>6</td>\n",
       "      <td>6</td>\n",
       "      <td>6</td>\n",
       "      <td>6</td>\n",
       "      <td>6</td>\n",
       "      <td>6</td>\n",
       "      <td>6</td>\n",
       "      <td>6</td>\n",
       "      <td>6</td>\n",
       "      <td>6</td>\n",
       "      <td>...</td>\n",
       "      <td>0</td>\n",
       "      <td>0</td>\n",
       "      <td>0</td>\n",
       "      <td>0</td>\n",
       "      <td>0</td>\n",
       "      <td>0</td>\n",
       "      <td>0</td>\n",
       "      <td>0</td>\n",
       "      <td>0</td>\n",
       "      <td>5</td>\n",
       "    </tr>\n",
       "    <tr>\n",
       "      <th>10375</th>\n",
       "      <td>2</td>\n",
       "      <td>2</td>\n",
       "      <td>2</td>\n",
       "      <td>2</td>\n",
       "      <td>2</td>\n",
       "      <td>2</td>\n",
       "      <td>2</td>\n",
       "      <td>2</td>\n",
       "      <td>2</td>\n",
       "      <td>2</td>\n",
       "      <td>...</td>\n",
       "      <td>2</td>\n",
       "      <td>2</td>\n",
       "      <td>2</td>\n",
       "      <td>0</td>\n",
       "      <td>0</td>\n",
       "      <td>0</td>\n",
       "      <td>2</td>\n",
       "      <td>2</td>\n",
       "      <td>0</td>\n",
       "      <td>1</td>\n",
       "    </tr>\n",
       "    <tr>\n",
       "      <th>11737</th>\n",
       "      <td>6</td>\n",
       "      <td>6</td>\n",
       "      <td>6</td>\n",
       "      <td>6</td>\n",
       "      <td>6</td>\n",
       "      <td>6</td>\n",
       "      <td>6</td>\n",
       "      <td>6</td>\n",
       "      <td>6</td>\n",
       "      <td>6</td>\n",
       "      <td>...</td>\n",
       "      <td>0</td>\n",
       "      <td>0</td>\n",
       "      <td>0</td>\n",
       "      <td>0</td>\n",
       "      <td>0</td>\n",
       "      <td>0</td>\n",
       "      <td>0</td>\n",
       "      <td>0</td>\n",
       "      <td>0</td>\n",
       "      <td>5</td>\n",
       "    </tr>\n",
       "    <tr>\n",
       "      <th>...</th>\n",
       "      <td>...</td>\n",
       "      <td>...</td>\n",
       "      <td>...</td>\n",
       "      <td>...</td>\n",
       "      <td>...</td>\n",
       "      <td>...</td>\n",
       "      <td>...</td>\n",
       "      <td>...</td>\n",
       "      <td>...</td>\n",
       "      <td>...</td>\n",
       "      <td>...</td>\n",
       "      <td>...</td>\n",
       "      <td>...</td>\n",
       "      <td>...</td>\n",
       "      <td>...</td>\n",
       "      <td>...</td>\n",
       "      <td>...</td>\n",
       "      <td>...</td>\n",
       "      <td>...</td>\n",
       "      <td>...</td>\n",
       "      <td>...</td>\n",
       "    </tr>\n",
       "    <tr>\n",
       "      <th>4992204</th>\n",
       "      <td>3</td>\n",
       "      <td>3</td>\n",
       "      <td>3</td>\n",
       "      <td>3</td>\n",
       "      <td>3</td>\n",
       "      <td>3</td>\n",
       "      <td>3</td>\n",
       "      <td>3</td>\n",
       "      <td>3</td>\n",
       "      <td>3</td>\n",
       "      <td>...</td>\n",
       "      <td>0</td>\n",
       "      <td>0</td>\n",
       "      <td>0</td>\n",
       "      <td>0</td>\n",
       "      <td>0</td>\n",
       "      <td>0</td>\n",
       "      <td>0</td>\n",
       "      <td>0</td>\n",
       "      <td>0</td>\n",
       "      <td>2</td>\n",
       "    </tr>\n",
       "    <tr>\n",
       "      <th>4992858</th>\n",
       "      <td>6</td>\n",
       "      <td>6</td>\n",
       "      <td>6</td>\n",
       "      <td>6</td>\n",
       "      <td>6</td>\n",
       "      <td>6</td>\n",
       "      <td>6</td>\n",
       "      <td>6</td>\n",
       "      <td>6</td>\n",
       "      <td>6</td>\n",
       "      <td>...</td>\n",
       "      <td>5</td>\n",
       "      <td>6</td>\n",
       "      <td>5</td>\n",
       "      <td>5</td>\n",
       "      <td>5</td>\n",
       "      <td>5</td>\n",
       "      <td>5</td>\n",
       "      <td>5</td>\n",
       "      <td>5</td>\n",
       "      <td>5</td>\n",
       "    </tr>\n",
       "    <tr>\n",
       "      <th>4993201</th>\n",
       "      <td>6</td>\n",
       "      <td>6</td>\n",
       "      <td>6</td>\n",
       "      <td>6</td>\n",
       "      <td>6</td>\n",
       "      <td>6</td>\n",
       "      <td>6</td>\n",
       "      <td>6</td>\n",
       "      <td>6</td>\n",
       "      <td>6</td>\n",
       "      <td>...</td>\n",
       "      <td>0</td>\n",
       "      <td>0</td>\n",
       "      <td>0</td>\n",
       "      <td>0</td>\n",
       "      <td>0</td>\n",
       "      <td>0</td>\n",
       "      <td>0</td>\n",
       "      <td>0</td>\n",
       "      <td>0</td>\n",
       "      <td>5</td>\n",
       "    </tr>\n",
       "    <tr>\n",
       "      <th>4998808</th>\n",
       "      <td>6</td>\n",
       "      <td>6</td>\n",
       "      <td>6</td>\n",
       "      <td>6</td>\n",
       "      <td>6</td>\n",
       "      <td>6</td>\n",
       "      <td>6</td>\n",
       "      <td>6</td>\n",
       "      <td>6</td>\n",
       "      <td>6</td>\n",
       "      <td>...</td>\n",
       "      <td>0</td>\n",
       "      <td>0</td>\n",
       "      <td>0</td>\n",
       "      <td>0</td>\n",
       "      <td>0</td>\n",
       "      <td>0</td>\n",
       "      <td>0</td>\n",
       "      <td>0</td>\n",
       "      <td>0</td>\n",
       "      <td>5</td>\n",
       "    </tr>\n",
       "    <tr>\n",
       "      <th>4999709</th>\n",
       "      <td>6</td>\n",
       "      <td>6</td>\n",
       "      <td>6</td>\n",
       "      <td>6</td>\n",
       "      <td>6</td>\n",
       "      <td>6</td>\n",
       "      <td>6</td>\n",
       "      <td>6</td>\n",
       "      <td>6</td>\n",
       "      <td>6</td>\n",
       "      <td>...</td>\n",
       "      <td>6</td>\n",
       "      <td>6</td>\n",
       "      <td>6</td>\n",
       "      <td>6</td>\n",
       "      <td>6</td>\n",
       "      <td>6</td>\n",
       "      <td>6</td>\n",
       "      <td>6</td>\n",
       "      <td>6</td>\n",
       "      <td>5</td>\n",
       "    </tr>\n",
       "  </tbody>\n",
       "</table>\n",
       "<p>2660 rows × 363 columns</p>\n",
       "</div>"
      ],
      "text/plain": [
       "             所属行业_单位:nan  实际披露时间_单位:nan  发布时间_单位:nan  报告截止日期_单位:nan  \\\n",
       "股票代码_单位:nan                                                           \n",
       "4019                   6              6            6              6   \n",
       "4213                   5              5            5              5   \n",
       "8166                   6              6            6              6   \n",
       "10375                  2              2            2              2   \n",
       "11737                  6              6            6              6   \n",
       "...                  ...            ...          ...            ...   \n",
       "4992204                3              3            3              3   \n",
       "4992858                6              6            6              6   \n",
       "4993201                6              6            6              6   \n",
       "4998808                6              6            6              6   \n",
       "4999709                6              6            6              6   \n",
       "\n",
       "             截止日期_单位:nan  报告类型_单位:nan  会计区间_单位:nan  合并标志：1-合并，2-母公司_单位:nan  \\\n",
       "股票代码_单位:nan                                                                  \n",
       "4019                   6            6            6                       6   \n",
       "4213                   5            5            5                       5   \n",
       "8166                   6            6            6                       6   \n",
       "10375                  2            2            2                       2   \n",
       "11737                  6            6            6                       6   \n",
       "...                  ...          ...          ...                     ...   \n",
       "4992204                3            3            3                       3   \n",
       "4992858                6            6            6                       6   \n",
       "4993201                6            6            6                       6   \n",
       "4998808                6            6            6                       6   \n",
       "4999709                6            6            6                       6   \n",
       "\n",
       "             会计准则_单位:nan  货币代码_单位:nan  ...  流动资产周转率_单位:次  营业周期_单位:天/次  \\\n",
       "股票代码_单位:nan                            ...                              \n",
       "4019                   6            6  ...             0            0   \n",
       "4213                   5            5  ...             0            0   \n",
       "8166                   6            6  ...             0            0   \n",
       "10375                  2            2  ...             2            2   \n",
       "11737                  6            6  ...             0            0   \n",
       "...                  ...          ...  ...           ...          ...   \n",
       "4992204                3            3  ...             0            0   \n",
       "4992858                6            6  ...             5            6   \n",
       "4993201                6            6  ...             0            0   \n",
       "4998808                6            6  ...             0            0   \n",
       "4999709                6            6  ...             6            6   \n",
       "\n",
       "             存货周转率_单位:次  固定资产周转率_单位:次  固定资产合计周转率_单位:次  应付账款周转天数_单位:天/次  \\\n",
       "股票代码_单位:nan                                                              \n",
       "4019                  0             0               0                0   \n",
       "4213                  0             0               0                0   \n",
       "8166                  0             0               0                0   \n",
       "10375                 2             0               0                0   \n",
       "11737                 0             0               0                0   \n",
       "...                 ...           ...             ...              ...   \n",
       "4992204               0             0               0                0   \n",
       "4992858               5             5               5                5   \n",
       "4993201               0             0               0                0   \n",
       "4998808               0             0               0                0   \n",
       "4999709               6             6               6                6   \n",
       "\n",
       "             存货周转天数_单位:nan  总资产周转率_单位:次  应收账款周转率_单位:次  是否在当年造假_单位:nan  \n",
       "股票代码_单位:nan                                                            \n",
       "4019                     0            0             0               5  \n",
       "4213                     0            0             0               4  \n",
       "8166                     0            0             0               5  \n",
       "10375                    2            2             0               1  \n",
       "11737                    0            0             0               5  \n",
       "...                    ...          ...           ...             ...  \n",
       "4992204                  0            0             0               2  \n",
       "4992858                  5            5             5               5  \n",
       "4993201                  0            0             0               5  \n",
       "4998808                  0            0             0               5  \n",
       "4999709                  6            6             6               5  \n",
       "\n",
       "[2660 rows x 363 columns]"
      ]
     },
     "execution_count": 8,
     "metadata": {},
     "output_type": "execute_result"
    }
   ],
   "source": [
    "zhizaoye_data.groupby(by='股票代码_单位:nan').count()"
   ]
  },
  {
   "cell_type": "markdown",
   "id": "09390b72",
   "metadata": {},
   "source": [
    "大部分的企业都有 6 组数据，7 − 2 + 1 = 6 7-2+1 = 67−2+1=6。所以，记住这个结论，之后我们解第二问、第三问，都应该要至少提到时序性的问题。"
   ]
  },
  {
   "cell_type": "markdown",
   "id": "e6c0fa77",
   "metadata": {},
   "source": [
    "报告截止日期与截止日期，咋看之下好像是一样的，但仔细观察可以发现：报告截止日期总是大于截止日期，我们验证一下："
   ]
  },
  {
   "cell_type": "code",
   "execution_count": 9,
   "id": "258ef287",
   "metadata": {
    "ExecuteTime": {
     "end_time": "2021-06-20T09:05:07.544970Z",
     "start_time": "2021-06-20T09:05:07.497096Z"
    }
   },
   "outputs": [
    {
     "data": {
      "text/plain": [
       "True"
      ]
     },
     "execution_count": 9,
     "metadata": {},
     "output_type": "execute_result"
    }
   ],
   "source": [
    "np.any(zhizaoye_data['报告截止日期_单位:nan'] > zhizaoye_data['截止日期_单位:nan'])"
   ]
  },
  {
   "cell_type": "markdown",
   "id": "3116e68d",
   "metadata": {
    "ExecuteTime": {
     "end_time": "2021-06-18T18:17:18.378519Z",
     "start_time": "2021-06-18T18:17:18.373532Z"
    }
   },
   "source": [
    "这里我们是否可以理解为，截止日期是规定的审计结束日期，而报告截止日期是审计结束之后，审计单位整理报告上报的日期？\n",
    "\n",
    "如果是这样，那么（报告截止日期-截止日期），即企业拖拉症状，应该与截止日期无关才对，即两者作为随机变量应是相互独立的。于是，我们就可以用列联表的方式，用统计检验的方法，来考察两者的分布是否独立。\n",
    "\n",
    "若独立，我们就可以将报告截止日期、截止日期，用（报告截止日期-截止日期）（即企业拖拉情况）来替换。因为一个企业拖拉的程度，更能够体现出这个企业造假的态度。\n",
    "\n",
    "我们取原假设为：截止日期、（报告截止日期-截止日期）（下面用Δ \\DeltaΔ代替）两个变量相互对立，首先构建用于独立检验的列联表："
   ]
  },
  {
   "cell_type": "code",
   "execution_count": 10,
   "id": "ea1065a8",
   "metadata": {
    "ExecuteTime": {
     "end_time": "2021-06-20T09:05:07.620768Z",
     "start_time": "2021-06-20T09:05:07.548958Z"
    }
   },
   "outputs": [
    {
     "data": {
      "text/html": [
       "<div>\n",
       "<style scoped>\n",
       "    .dataframe tbody tr th:only-of-type {\n",
       "        vertical-align: middle;\n",
       "    }\n",
       "\n",
       "    .dataframe tbody tr th {\n",
       "        vertical-align: top;\n",
       "    }\n",
       "\n",
       "    .dataframe thead th {\n",
       "        text-align: right;\n",
       "    }\n",
       "</style>\n",
       "<table border=\"1\" class=\"dataframe\">\n",
       "  <thead>\n",
       "    <tr style=\"text-align: right;\">\n",
       "      <th></th>\n",
       "      <th></th>\n",
       "      <th>报告截止日期_单位:nan</th>\n",
       "    </tr>\n",
       "    <tr>\n",
       "      <th>截止日期_单位:nan</th>\n",
       "      <th>拖延时间</th>\n",
       "      <th></th>\n",
       "    </tr>\n",
       "  </thead>\n",
       "  <tbody>\n",
       "    <tr>\n",
       "      <th rowspan=\"4\" valign=\"top\">1</th>\n",
       "      <th>0</th>\n",
       "      <td>88</td>\n",
       "    </tr>\n",
       "    <tr>\n",
       "      <th>1</th>\n",
       "      <td>1573</td>\n",
       "    </tr>\n",
       "    <tr>\n",
       "      <th>2</th>\n",
       "      <td>65</td>\n",
       "    </tr>\n",
       "    <tr>\n",
       "      <th>3</th>\n",
       "      <td>155</td>\n",
       "    </tr>\n",
       "    <tr>\n",
       "      <th rowspan=\"4\" valign=\"top\">2</th>\n",
       "      <th>0</th>\n",
       "      <td>764</td>\n",
       "    </tr>\n",
       "    <tr>\n",
       "      <th>1</th>\n",
       "      <td>961</td>\n",
       "    </tr>\n",
       "    <tr>\n",
       "      <th>2</th>\n",
       "      <td>314</td>\n",
       "    </tr>\n",
       "    <tr>\n",
       "      <th>3</th>\n",
       "      <td>120</td>\n",
       "    </tr>\n",
       "    <tr>\n",
       "      <th rowspan=\"4\" valign=\"top\">3</th>\n",
       "      <th>0</th>\n",
       "      <td>49</td>\n",
       "    </tr>\n",
       "    <tr>\n",
       "      <th>1</th>\n",
       "      <td>1989</td>\n",
       "    </tr>\n",
       "    <tr>\n",
       "      <th>2</th>\n",
       "      <td>151</td>\n",
       "    </tr>\n",
       "    <tr>\n",
       "      <th>3</th>\n",
       "      <td>37</td>\n",
       "    </tr>\n",
       "    <tr>\n",
       "      <th rowspan=\"4\" valign=\"top\">4</th>\n",
       "      <th>0</th>\n",
       "      <td>62</td>\n",
       "    </tr>\n",
       "    <tr>\n",
       "      <th>1</th>\n",
       "      <td>2125</td>\n",
       "    </tr>\n",
       "    <tr>\n",
       "      <th>2</th>\n",
       "      <td>105</td>\n",
       "    </tr>\n",
       "    <tr>\n",
       "      <th>3</th>\n",
       "      <td>92</td>\n",
       "    </tr>\n",
       "    <tr>\n",
       "      <th rowspan=\"3\" valign=\"top\">5</th>\n",
       "      <th>0</th>\n",
       "      <td>62</td>\n",
       "    </tr>\n",
       "    <tr>\n",
       "      <th>1</th>\n",
       "      <td>2230</td>\n",
       "    </tr>\n",
       "    <tr>\n",
       "      <th>2</th>\n",
       "      <td>368</td>\n",
       "    </tr>\n",
       "    <tr>\n",
       "      <th rowspan=\"2\" valign=\"top\">6</th>\n",
       "      <th>0</th>\n",
       "      <td>34</td>\n",
       "    </tr>\n",
       "    <tr>\n",
       "      <th>1</th>\n",
       "      <td>2626</td>\n",
       "    </tr>\n",
       "  </tbody>\n",
       "</table>\n",
       "</div>"
      ],
      "text/plain": [
       "                  报告截止日期_单位:nan\n",
       "截止日期_单位:nan 拖延时间               \n",
       "1           0                88\n",
       "            1              1573\n",
       "            2                65\n",
       "            3               155\n",
       "2           0               764\n",
       "            1               961\n",
       "            2               314\n",
       "            3               120\n",
       "3           0                49\n",
       "            1              1989\n",
       "            2               151\n",
       "            3                37\n",
       "4           0                62\n",
       "            1              2125\n",
       "            2               105\n",
       "            3                92\n",
       "5           0                62\n",
       "            1              2230\n",
       "            2               368\n",
       "6           0                34\n",
       "            1              2626"
      ]
     },
     "execution_count": 10,
     "metadata": {},
     "output_type": "execute_result"
    }
   ],
   "source": [
    "df_for_table = zhizaoye_data.loc[:,['报告截止日期_单位:nan','截止日期_单位:nan']]\n",
    "df_for_table['拖延时间'] = df_for_table.iloc[:,0] - df_for_table.iloc[:,1]\n",
    "df_for_table = df_for_table.groupby(by=['截止日期_单位:nan','拖延时间']).count()\n",
    "df_for_table"
   ]
  },
  {
   "cell_type": "markdown",
   "id": "aebc3a2a",
   "metadata": {},
   "source": [
    "从结果表中，我们可以看出，END_DATE 取 5 和 6 的时候（此时单位我们还不知，可能是天、月、年），拖延时间的最大值分别是 2 和 1。即，END_DATE_REP 的最大取值为 7。仔细回忆，我们的发布时间、实际披露时间的最大值也是为 7 。\n",
    "\n",
    "于是，不难得出，END_DATE 和 END_DATE_REP 的单位是年\n",
    "\n",
    "为了分析方便，我们将 END_DATE 为 5 和 6 的删除并构建列联表："
   ]
  },
  {
   "cell_type": "code",
   "execution_count": 11,
   "id": "29aa2f23",
   "metadata": {
    "ExecuteTime": {
     "end_time": "2021-06-20T09:05:07.638747Z",
     "start_time": "2021-06-20T09:05:07.623813Z"
    }
   },
   "outputs": [
    {
     "data": {
      "text/plain": [
       "array([[  88., 1573.,   65.,  155.],\n",
       "       [ 764.,  961.,  314.,  120.],\n",
       "       [  49., 1989.,  151.,   37.],\n",
       "       [  62., 2125.,  105.,   92.]])"
      ]
     },
     "execution_count": 11,
     "metadata": {},
     "output_type": "execute_result"
    }
   ],
   "source": [
    "obs = np.zeros((4,4))\n",
    "for i in range(4):\n",
    "    tmp = df_for_table[4*i:4*(i+1)].values.reshape(-1)\n",
    "    obs[i,:] = tmp\n",
    "obs"
   ]
  },
  {
   "cell_type": "markdown",
   "id": "58f029ec",
   "metadata": {},
   "source": [
    "构建好列联表后，进行假设检验，结果如下：\n",
    "检验统计量的值为 3521.1458225666274\n",
    "p-值为 0.0\n",
    "\n",
    "根据假设检验的结果，由于 p值为 0，所以很遗憾，我们需要拒绝原假设，并有100%的把握，可以说拖延时间和截止时间是相关的。\n",
    "\n",
    "同上述分析，我们也需要考虑 PUBLISH_DATE 和 ACT_PUBTIME 之间的关系。来判断两者之间，是不是实际发布时间，或者大于等于发布时间"
   ]
  },
  {
   "cell_type": "code",
   "execution_count": 12,
   "id": "8aff3554",
   "metadata": {
    "ExecuteTime": {
     "end_time": "2021-06-20T09:05:07.654690Z",
     "start_time": "2021-06-20T09:05:07.641393Z"
    }
   },
   "outputs": [
    {
     "data": {
      "text/plain": [
       "True"
      ]
     },
     "execution_count": 12,
     "metadata": {},
     "output_type": "execute_result"
    }
   ],
   "source": [
    "np.any(zhizaoye_data['实际披露时间_单位:nan']>= zhizaoye_data['发布时间_单位:nan'])"
   ]
  },
  {
   "cell_type": "markdown",
   "id": "b5ae2b46",
   "metadata": {
    "ExecuteTime": {
     "end_time": "2021-06-18T18:21:21.741908Z",
     "start_time": "2021-06-18T18:21:21.736924Z"
    }
   },
   "source": [
    "下面判断出发布拖延时间与发布时间作为随机变量是否相互独立。\n",
    "我们先搭建一个列联表如下："
   ]
  },
  {
   "cell_type": "code",
   "execution_count": 13,
   "id": "0a8ef8db",
   "metadata": {
    "ExecuteTime": {
     "end_time": "2021-06-20T09:05:07.685128Z",
     "start_time": "2021-06-20T09:05:07.657669Z"
    }
   },
   "outputs": [
    {
     "data": {
      "text/html": [
       "<div>\n",
       "<style scoped>\n",
       "    .dataframe tbody tr th:only-of-type {\n",
       "        vertical-align: middle;\n",
       "    }\n",
       "\n",
       "    .dataframe tbody tr th {\n",
       "        vertical-align: top;\n",
       "    }\n",
       "\n",
       "    .dataframe thead th {\n",
       "        text-align: right;\n",
       "    }\n",
       "</style>\n",
       "<table border=\"1\" class=\"dataframe\">\n",
       "  <thead>\n",
       "    <tr style=\"text-align: right;\">\n",
       "      <th></th>\n",
       "      <th></th>\n",
       "      <th>实际披露时间_单位:nan</th>\n",
       "    </tr>\n",
       "    <tr>\n",
       "      <th>发布时间_单位:nan</th>\n",
       "      <th>时间差</th>\n",
       "      <th></th>\n",
       "    </tr>\n",
       "  </thead>\n",
       "  <tbody>\n",
       "    <tr>\n",
       "      <th>2</th>\n",
       "      <th>0</th>\n",
       "      <td>414</td>\n",
       "    </tr>\n",
       "    <tr>\n",
       "      <th>3</th>\n",
       "      <th>0</th>\n",
       "      <td>2237</td>\n",
       "    </tr>\n",
       "    <tr>\n",
       "      <th>4</th>\n",
       "      <th>0</th>\n",
       "      <td>1022</td>\n",
       "    </tr>\n",
       "    <tr>\n",
       "      <th>5</th>\n",
       "      <th>0</th>\n",
       "      <td>2457</td>\n",
       "    </tr>\n",
       "    <tr>\n",
       "      <th>6</th>\n",
       "      <th>0</th>\n",
       "      <td>2274</td>\n",
       "    </tr>\n",
       "    <tr>\n",
       "      <th>7</th>\n",
       "      <th>0</th>\n",
       "      <td>5566</td>\n",
       "    </tr>\n",
       "  </tbody>\n",
       "</table>\n",
       "</div>"
      ],
      "text/plain": [
       "                 实际披露时间_单位:nan\n",
       "发布时间_单位:nan 时间差               \n",
       "2           0              414\n",
       "3           0             2237\n",
       "4           0             1022\n",
       "5           0             2457\n",
       "6           0             2274\n",
       "7           0             5566"
      ]
     },
     "execution_count": 13,
     "metadata": {},
     "output_type": "execute_result"
    }
   ],
   "source": [
    "df_for_table2 = zhizaoye_data.loc[:,['实际披露时间_单位:nan','发布时间_单位:nan']]\n",
    "df_for_table2['时间差'] = df_for_table2.iloc[:,0] - df_for_table2.iloc[:,1]\n",
    "df_for_table2 = df_for_table2.groupby(by=['发布时间_单位:nan','时间差']).count()\n",
    "df_for_table2"
   ]
  },
  {
   "cell_type": "markdown",
   "id": "a5352fa4",
   "metadata": {},
   "source": [
    "然而，从这个表可以看出，原来所有企业的实际发布时间，和发布时间都是相同的。\n",
    "\n",
    "对于第二问和第三问，我们无法考虑时序性，因为我们需要解决类别不均衡问题。"
   ]
  },
  {
   "cell_type": "markdown",
   "id": "ecc420fc",
   "metadata": {},
   "source": [
    "## 数据预处理"
   ]
  },
  {
   "cell_type": "markdown",
   "id": "17ac5461",
   "metadata": {},
   "source": [
    "### 1.删除缺失值过多、没有意义的特征"
   ]
  },
  {
   "cell_type": "code",
   "execution_count": 14,
   "id": "99a449db",
   "metadata": {
    "ExecuteTime": {
     "end_time": "2021-06-20T09:05:07.804685Z",
     "start_time": "2021-06-20T09:05:07.686589Z"
    }
   },
   "outputs": [
    {
     "name": "stdout",
     "output_type": "stream",
     "text": [
      "删除了249列\n",
      "保留了115列\n"
     ]
    }
   ],
   "source": [
    "def Delete_LoseRate_Column(data,lose_rate):\n",
    "    regular_list = []\n",
    "    nan_list = []\n",
    "    for i in list(data.columns):\n",
    "        if data[i].isnull().sum()/(data.shape[0]-1) <= lose_rate:#-1不影响\n",
    "            regular_list.append(i)\n",
    "        else:\n",
    "            nan_list.append(i)\n",
    "    return regular_list,nan_list\n",
    "\n",
    "lose_rate = 0.6\n",
    "name_list,delete_list=Delete_LoseRate_Column(zhizaoye_data,lose_rate)\n",
    "zhizaoye_data=zhizaoye_data[name_list]\n",
    "print(\"删除了\"+str(len(delete_list))+\"列\")\n",
    "print(\"保留了\"+str(len(name_list))+\"列\")"
   ]
  },
  {
   "cell_type": "code",
   "execution_count": 15,
   "id": "e01cba80",
   "metadata": {
    "ExecuteTime": {
     "end_time": "2021-06-20T09:05:07.813282Z",
     "start_time": "2021-06-20T09:05:07.806823Z"
    }
   },
   "outputs": [],
   "source": [
    "#删除非数字的、从头到尾一个值的、明显没有分类意义的\n",
    "def FindToBeDelete_Col(company_data):\n",
    "    NotNumCol_List = [col for col in company_data.columns.values if company_data[col].dtype == 'object']\n",
    "    SameElemCol_List = [col for col in list(company_data.columns) if len(set(company_data[col]))==1]\n",
    "    NoSense_List=list(company_data.columns[:6])#+list(company_data.columns[-1:])\n",
    "    ToBeDelete_Col=list(set(NotNumCol_List).union(set(SameElemCol_List),set(NoSense_List)))\n",
    "    return ToBeDelete_Col"
   ]
  },
  {
   "cell_type": "code",
   "execution_count": 16,
   "id": "85577222",
   "metadata": {
    "ExecuteTime": {
     "end_time": "2021-06-20T09:05:34.057806Z",
     "start_time": "2021-06-20T09:05:07.815697Z"
    }
   },
   "outputs": [],
   "source": [
    "ToBeDelete_Col=FindToBeDelete_Col(zhizaoye_data)\n",
    "zhizaoye_data2=zhizaoye_data.drop(ToBeDelete_Col,axis=1)"
   ]
  },
  {
   "cell_type": "code",
   "execution_count": 17,
   "id": "e9a3ebbc",
   "metadata": {
    "ExecuteTime": {
     "end_time": "2021-06-20T09:05:34.147103Z",
     "start_time": "2021-06-20T09:05:34.060799Z"
    }
   },
   "outputs": [
    {
     "data": {
      "text/html": [
       "<div>\n",
       "<style scoped>\n",
       "    .dataframe tbody tr th:only-of-type {\n",
       "        vertical-align: middle;\n",
       "    }\n",
       "\n",
       "    .dataframe tbody tr th {\n",
       "        vertical-align: top;\n",
       "    }\n",
       "\n",
       "    .dataframe thead th {\n",
       "        text-align: right;\n",
       "    }\n",
       "</style>\n",
       "<table border=\"1\" class=\"dataframe\">\n",
       "  <thead>\n",
       "    <tr style=\"text-align: right;\">\n",
       "      <th></th>\n",
       "      <th>货币资金_单位:元</th>\n",
       "      <th>应收票据_单位:元</th>\n",
       "      <th>应收账款_单位:元</th>\n",
       "      <th>预付款项_单位:元</th>\n",
       "      <th>其他应收款_单位:元</th>\n",
       "      <th>存货_单位:元</th>\n",
       "      <th>其他流动资产_单位:元</th>\n",
       "      <th>流动资产合计_单位:元</th>\n",
       "      <th>可供出售金融资产_单位:元</th>\n",
       "      <th>长期股权投资_单位:元</th>\n",
       "      <th>...</th>\n",
       "      <th>净利润(净亏损以“－”号填列)_单位:元</th>\n",
       "      <th>营业税金及附加_单位:元</th>\n",
       "      <th>营业外支出_单位:元</th>\n",
       "      <th>持续经营净利润_单位:元</th>\n",
       "      <th>归属于少数股东的综合收益总额_单位:元</th>\n",
       "      <th>所得税费用_单位:元</th>\n",
       "      <th>营业外收入_单位:元</th>\n",
       "      <th>少数股东损益_单位:元</th>\n",
       "      <th>营业总成本_单位:元</th>\n",
       "      <th>是否在当年造假_单位:nan</th>\n",
       "    </tr>\n",
       "  </thead>\n",
       "  <tbody>\n",
       "    <tr>\n",
       "      <th>0</th>\n",
       "      <td>6.719939e+08</td>\n",
       "      <td>1.643520e+08</td>\n",
       "      <td>3.451945e+08</td>\n",
       "      <td>1.039522e+07</td>\n",
       "      <td>3584940.60</td>\n",
       "      <td>9.372176e+07</td>\n",
       "      <td>NaN</td>\n",
       "      <td>1.291554e+09</td>\n",
       "      <td>NaN</td>\n",
       "      <td>2.026086e+07</td>\n",
       "      <td>...</td>\n",
       "      <td>1.054685e+08</td>\n",
       "      <td>1505596.10</td>\n",
       "      <td>224194.93</td>\n",
       "      <td>NaN</td>\n",
       "      <td>NaN</td>\n",
       "      <td>19509143.39</td>\n",
       "      <td>16781651.83</td>\n",
       "      <td>NaN</td>\n",
       "      <td>3.885748e+08</td>\n",
       "      <td>0.0</td>\n",
       "    </tr>\n",
       "    <tr>\n",
       "      <th>1</th>\n",
       "      <td>1.010981e+09</td>\n",
       "      <td>2.155752e+09</td>\n",
       "      <td>2.887470e+08</td>\n",
       "      <td>1.075202e+08</td>\n",
       "      <td>85626756.05</td>\n",
       "      <td>1.049809e+09</td>\n",
       "      <td>1.080342e+07</td>\n",
       "      <td>4.709240e+09</td>\n",
       "      <td>NaN</td>\n",
       "      <td>2.530000e+04</td>\n",
       "      <td>...</td>\n",
       "      <td>3.626590e+08</td>\n",
       "      <td>28213513.69</td>\n",
       "      <td>1071702.74</td>\n",
       "      <td>NaN</td>\n",
       "      <td>NaN</td>\n",
       "      <td>52563706.01</td>\n",
       "      <td>22480726.69</td>\n",
       "      <td>NaN</td>\n",
       "      <td>4.930772e+09</td>\n",
       "      <td>0.0</td>\n",
       "    </tr>\n",
       "    <tr>\n",
       "      <th>2</th>\n",
       "      <td>1.502023e+09</td>\n",
       "      <td>2.688988e+07</td>\n",
       "      <td>9.517806e+08</td>\n",
       "      <td>4.157376e+07</td>\n",
       "      <td>37519236.14</td>\n",
       "      <td>6.611381e+08</td>\n",
       "      <td>3.919438e+08</td>\n",
       "      <td>3.619333e+09</td>\n",
       "      <td>1500000.0</td>\n",
       "      <td>1.503091e+08</td>\n",
       "      <td>...</td>\n",
       "      <td>3.479212e+08</td>\n",
       "      <td>8298888.47</td>\n",
       "      <td>633458.95</td>\n",
       "      <td>NaN</td>\n",
       "      <td>21722671.14</td>\n",
       "      <td>36404446.16</td>\n",
       "      <td>60365828.87</td>\n",
       "      <td>21722671.14</td>\n",
       "      <td>1.384902e+09</td>\n",
       "      <td>0.0</td>\n",
       "    </tr>\n",
       "    <tr>\n",
       "      <th>3</th>\n",
       "      <td>9.966031e+08</td>\n",
       "      <td>3.686740e+05</td>\n",
       "      <td>2.824134e+08</td>\n",
       "      <td>2.741431e+07</td>\n",
       "      <td>67249473.03</td>\n",
       "      <td>3.400061e+08</td>\n",
       "      <td>8.145214e+08</td>\n",
       "      <td>2.554056e+09</td>\n",
       "      <td>NaN</td>\n",
       "      <td>NaN</td>\n",
       "      <td>...</td>\n",
       "      <td>1.043842e+08</td>\n",
       "      <td>11585500.32</td>\n",
       "      <td>1727998.62</td>\n",
       "      <td>NaN</td>\n",
       "      <td>36810.52</td>\n",
       "      <td>17533501.14</td>\n",
       "      <td>18113878.30</td>\n",
       "      <td>36810.52</td>\n",
       "      <td>2.153059e+09</td>\n",
       "      <td>0.0</td>\n",
       "    </tr>\n",
       "    <tr>\n",
       "      <th>4</th>\n",
       "      <td>5.763404e+07</td>\n",
       "      <td>8.990000e+06</td>\n",
       "      <td>5.941825e+07</td>\n",
       "      <td>3.603420e+07</td>\n",
       "      <td>775584.93</td>\n",
       "      <td>6.985958e+07</td>\n",
       "      <td>4.721015e+05</td>\n",
       "      <td>2.331838e+08</td>\n",
       "      <td>NaN</td>\n",
       "      <td>NaN</td>\n",
       "      <td>...</td>\n",
       "      <td>5.190705e+07</td>\n",
       "      <td>1621817.64</td>\n",
       "      <td>499429.33</td>\n",
       "      <td>NaN</td>\n",
       "      <td>919215.16</td>\n",
       "      <td>8519689.96</td>\n",
       "      <td>4847047.58</td>\n",
       "      <td>919215.16</td>\n",
       "      <td>3.384751e+08</td>\n",
       "      <td>0.0</td>\n",
       "    </tr>\n",
       "  </tbody>\n",
       "</table>\n",
       "<p>5 rows × 104 columns</p>\n",
       "</div>"
      ],
      "text/plain": [
       "      货币资金_单位:元     应收票据_单位:元     应收账款_单位:元     预付款项_单位:元   其他应收款_单位:元  \\\n",
       "0  6.719939e+08  1.643520e+08  3.451945e+08  1.039522e+07   3584940.60   \n",
       "1  1.010981e+09  2.155752e+09  2.887470e+08  1.075202e+08  85626756.05   \n",
       "2  1.502023e+09  2.688988e+07  9.517806e+08  4.157376e+07  37519236.14   \n",
       "3  9.966031e+08  3.686740e+05  2.824134e+08  2.741431e+07  67249473.03   \n",
       "4  5.763404e+07  8.990000e+06  5.941825e+07  3.603420e+07    775584.93   \n",
       "\n",
       "        存货_单位:元   其他流动资产_单位:元   流动资产合计_单位:元  可供出售金融资产_单位:元   长期股权投资_单位:元  ...  \\\n",
       "0  9.372176e+07           NaN  1.291554e+09            NaN  2.026086e+07  ...   \n",
       "1  1.049809e+09  1.080342e+07  4.709240e+09            NaN  2.530000e+04  ...   \n",
       "2  6.611381e+08  3.919438e+08  3.619333e+09      1500000.0  1.503091e+08  ...   \n",
       "3  3.400061e+08  8.145214e+08  2.554056e+09            NaN           NaN  ...   \n",
       "4  6.985958e+07  4.721015e+05  2.331838e+08            NaN           NaN  ...   \n",
       "\n",
       "   净利润(净亏损以“－”号填列)_单位:元  营业税金及附加_单位:元  营业外支出_单位:元  持续经营净利润_单位:元  \\\n",
       "0          1.054685e+08    1505596.10   224194.93           NaN   \n",
       "1          3.626590e+08   28213513.69  1071702.74           NaN   \n",
       "2          3.479212e+08    8298888.47   633458.95           NaN   \n",
       "3          1.043842e+08   11585500.32  1727998.62           NaN   \n",
       "4          5.190705e+07    1621817.64   499429.33           NaN   \n",
       "\n",
       "   归属于少数股东的综合收益总额_单位:元   所得税费用_单位:元   营业外收入_单位:元  少数股东损益_单位:元    营业总成本_单位:元  \\\n",
       "0                  NaN  19509143.39  16781651.83          NaN  3.885748e+08   \n",
       "1                  NaN  52563706.01  22480726.69          NaN  4.930772e+09   \n",
       "2          21722671.14  36404446.16  60365828.87  21722671.14  1.384902e+09   \n",
       "3             36810.52  17533501.14  18113878.30     36810.52  2.153059e+09   \n",
       "4            919215.16   8519689.96   4847047.58    919215.16  3.384751e+08   \n",
       "\n",
       "   是否在当年造假_单位:nan  \n",
       "0             0.0  \n",
       "1             0.0  \n",
       "2             0.0  \n",
       "3             0.0  \n",
       "4             0.0  \n",
       "\n",
       "[5 rows x 104 columns]"
      ]
     },
     "execution_count": 17,
     "metadata": {},
     "output_type": "execute_result"
    }
   ],
   "source": [
    "#把要预测的部分行（flag为nan）删掉\n",
    "zhizaoye_data2=zhizaoye_data2[pd.notnull(zhizaoye_data2['是否在当年造假_单位:nan'])]#isnull\n",
    "zhizaoye_data2.head()"
   ]
  },
  {
   "cell_type": "markdown",
   "id": "ae986ffc",
   "metadata": {},
   "source": [
    "### 2.缺失值填充、去除异常值、归一化数据"
   ]
  },
  {
   "cell_type": "code",
   "execution_count": 18,
   "id": "5c6d8133",
   "metadata": {
    "ExecuteTime": {
     "end_time": "2021-06-20T09:05:34.160069Z",
     "start_time": "2021-06-20T09:05:34.152092Z"
    }
   },
   "outputs": [],
   "source": [
    "#方便后面从列表变回dataframe\n",
    "zhizaoye_data2_columns=zhizaoye_data2.columns"
   ]
  },
  {
   "cell_type": "code",
   "execution_count": 19,
   "id": "f753adad",
   "metadata": {
    "ExecuteTime": {
     "end_time": "2021-06-20T09:07:43.839001Z",
     "start_time": "2021-06-20T09:05:34.165058Z"
    }
   },
   "outputs": [],
   "source": [
    "#调用KNN填充所有缺失数据\n",
    "imputer = KNNImputer(n_neighbors=1)\n",
    "zhizaoye_data2= imputer.fit_transform(zhizaoye_data2)\n",
    "#zhizaoye_data2.fillna(0,inplace=True)"
   ]
  },
  {
   "cell_type": "code",
   "execution_count": 20,
   "id": "7ad54751",
   "metadata": {
    "ExecuteTime": {
     "end_time": "2021-06-20T09:07:44.200034Z",
     "start_time": "2021-06-20T09:07:43.852791Z"
    }
   },
   "outputs": [
    {
     "data": {
      "text/plain": [
       "Counter({0.0: 10396, 1.0: 85})"
      ]
     },
     "execution_count": 20,
     "metadata": {},
     "output_type": "execute_result"
    }
   ],
   "source": [
    "zhizaoye_data2=pd.DataFrame(zhizaoye_data2)\n",
    "Q1 = zhizaoye_data2.quantile(0.25)\n",
    "Q3 =zhizaoye_data2.quantile(0.75)\n",
    "IQR = Q3 - Q1\n",
    "nan_means_noproblem=zhizaoye_data2[(zhizaoye_data2 < (Q1 - 1.5 * IQR)) | (zhizaoye_data2> (Q3 + 1.5 * IQR))]\n",
    "# 非空即异常\n",
    "rows_not_null = nan_means_noproblem.count(axis=1) \n",
    "problem_index=rows_not_null[rows_not_null>60].index\n",
    "selected_index=list(set(zhizaoye_data2.index).difference(set(problem_index)))\n",
    "zhizaoye_data2=zhizaoye_data2.iloc[selected_index]\n",
    "#查看异常行数据的标签情况\n",
    "Counter(zhizaoye_data2.iloc[:,-1])"
   ]
  },
  {
   "cell_type": "code",
   "execution_count": 21,
   "id": "38f7f664",
   "metadata": {
    "ExecuteTime": {
     "end_time": "2021-06-20T09:07:44.883318Z",
     "start_time": "2021-06-20T09:07:44.206255Z"
    }
   },
   "outputs": [
    {
     "data": {
      "image/png": "[encoded data removed]",
      "text/plain": [
       "<Figure size 432x288 with 1 Axes>"
      ]
     },
     "metadata": {
      "needs_background": "light"
     },
     "output_type": "display_data"
    }
   ],
   "source": [
    "Sorted_rows_num=rows_not_null.sort_values()\n",
    "Sorted_rows_num=Sorted_rows_num.reset_index(drop=True)\n",
    "plt.title(\"离群值行的离群值个数情况统计(排序后)\")\n",
    "Sorted_rows_num.plot()\n",
    "plt.show()"
   ]
  },
  {
   "cell_type": "code",
   "execution_count": 22,
   "id": "dbd459f9",
   "metadata": {
    "ExecuteTime": {
     "end_time": "2021-06-20T09:07:44.978116Z",
     "start_time": "2021-06-20T09:07:44.887306Z"
    }
   },
   "outputs": [],
   "source": [
    "#标准化归一化\n",
    "sds=StandardScaler()\n",
    "zhizaoye_data2=sds.fit_transform(zhizaoye_data2)\n",
    "mms = MinMaxScaler()\n",
    "zhizaoye_data2= mms.fit_transform(zhizaoye_data2)"
   ]
  },
  {
   "cell_type": "markdown",
   "id": "9cc272eb",
   "metadata": {},
   "source": [
    "把zhizaoye_data2变回dataframe的形式"
   ]
  },
  {
   "cell_type": "code",
   "execution_count": 23,
   "id": "3eaa10d3",
   "metadata": {
    "ExecuteTime": {
     "end_time": "2021-06-20T09:07:45.048876Z",
     "start_time": "2021-06-20T09:07:44.990033Z"
    }
   },
   "outputs": [
    {
     "data": {
      "text/html": [
       "<div>\n",
       "<style scoped>\n",
       "    .dataframe tbody tr th:only-of-type {\n",
       "        vertical-align: middle;\n",
       "    }\n",
       "\n",
       "    .dataframe tbody tr th {\n",
       "        vertical-align: top;\n",
       "    }\n",
       "\n",
       "    .dataframe thead th {\n",
       "        text-align: right;\n",
       "    }\n",
       "</style>\n",
       "<table border=\"1\" class=\"dataframe\">\n",
       "  <thead>\n",
       "    <tr style=\"text-align: right;\">\n",
       "      <th></th>\n",
       "      <th>货币资金_单位:元</th>\n",
       "      <th>应收票据_单位:元</th>\n",
       "      <th>应收账款_单位:元</th>\n",
       "      <th>预付款项_单位:元</th>\n",
       "      <th>其他应收款_单位:元</th>\n",
       "      <th>存货_单位:元</th>\n",
       "      <th>其他流动资产_单位:元</th>\n",
       "      <th>流动资产合计_单位:元</th>\n",
       "      <th>可供出售金融资产_单位:元</th>\n",
       "      <th>长期股权投资_单位:元</th>\n",
       "      <th>...</th>\n",
       "      <th>净利润(净亏损以“－”号填列)_单位:元</th>\n",
       "      <th>营业税金及附加_单位:元</th>\n",
       "      <th>营业外支出_单位:元</th>\n",
       "      <th>持续经营净利润_单位:元</th>\n",
       "      <th>归属于少数股东的综合收益总额_单位:元</th>\n",
       "      <th>所得税费用_单位:元</th>\n",
       "      <th>营业外收入_单位:元</th>\n",
       "      <th>少数股东损益_单位:元</th>\n",
       "      <th>营业总成本_单位:元</th>\n",
       "      <th>是否在当年造假_单位:nan</th>\n",
       "    </tr>\n",
       "  </thead>\n",
       "  <tbody>\n",
       "    <tr>\n",
       "      <th>0</th>\n",
       "      <td>0.043658</td>\n",
       "      <td>0.017122</td>\n",
       "      <td>0.037836</td>\n",
       "      <td>0.001069</td>\n",
       "      <td>0.001033</td>\n",
       "      <td>0.004901</td>\n",
       "      <td>0.007244</td>\n",
       "      <td>0.049369</td>\n",
       "      <td>0.004968</td>\n",
       "      <td>0.003934</td>\n",
       "      <td>...</td>\n",
       "      <td>0.601288</td>\n",
       "      <td>0.006715</td>\n",
       "      <td>0.044213</td>\n",
       "      <td>0.553713</td>\n",
       "      <td>0.629963</td>\n",
       "      <td>0.245617</td>\n",
       "      <td>0.002322</td>\n",
       "      <td>0.613349</td>\n",
       "      <td>0.010308</td>\n",
       "      <td>0.0</td>\n",
       "    </tr>\n",
       "    <tr>\n",
       "      <th>1</th>\n",
       "      <td>0.065686</td>\n",
       "      <td>0.224587</td>\n",
       "      <td>0.031649</td>\n",
       "      <td>0.011060</td>\n",
       "      <td>0.024677</td>\n",
       "      <td>0.054893</td>\n",
       "      <td>0.001427</td>\n",
       "      <td>0.180705</td>\n",
       "      <td>0.006369</td>\n",
       "      <td>0.002588</td>\n",
       "      <td>...</td>\n",
       "      <td>0.626670</td>\n",
       "      <td>0.022471</td>\n",
       "      <td>0.044814</td>\n",
       "      <td>0.575574</td>\n",
       "      <td>0.643846</td>\n",
       "      <td>0.267828</td>\n",
       "      <td>0.003111</td>\n",
       "      <td>0.627212</td>\n",
       "      <td>0.134279</td>\n",
       "      <td>0.0</td>\n",
       "    </tr>\n",
       "    <tr>\n",
       "      <th>2</th>\n",
       "      <td>0.097595</td>\n",
       "      <td>0.002801</td>\n",
       "      <td>0.104322</td>\n",
       "      <td>0.004276</td>\n",
       "      <td>0.010813</td>\n",
       "      <td>0.034570</td>\n",
       "      <td>0.051774</td>\n",
       "      <td>0.138822</td>\n",
       "      <td>0.000239</td>\n",
       "      <td>0.012587</td>\n",
       "      <td>...</td>\n",
       "      <td>0.625216</td>\n",
       "      <td>0.010722</td>\n",
       "      <td>0.044503</td>\n",
       "      <td>0.568297</td>\n",
       "      <td>0.638237</td>\n",
       "      <td>0.256970</td>\n",
       "      <td>0.008353</td>\n",
       "      <td>0.621611</td>\n",
       "      <td>0.037501</td>\n",
       "      <td>0.0</td>\n",
       "    </tr>\n",
       "    <tr>\n",
       "      <th>3</th>\n",
       "      <td>0.064752</td>\n",
       "      <td>0.000038</td>\n",
       "      <td>0.030954</td>\n",
       "      <td>0.002820</td>\n",
       "      <td>0.019381</td>\n",
       "      <td>0.017779</td>\n",
       "      <td>0.107595</td>\n",
       "      <td>0.097885</td>\n",
       "      <td>0.021850</td>\n",
       "      <td>0.019459</td>\n",
       "      <td>...</td>\n",
       "      <td>0.601181</td>\n",
       "      <td>0.012661</td>\n",
       "      <td>0.045280</td>\n",
       "      <td>0.559866</td>\n",
       "      <td>0.626331</td>\n",
       "      <td>0.244289</td>\n",
       "      <td>0.002507</td>\n",
       "      <td>0.609722</td>\n",
       "      <td>0.058466</td>\n",
       "      <td>0.0</td>\n",
       "    </tr>\n",
       "    <tr>\n",
       "      <th>4</th>\n",
       "      <td>0.003736</td>\n",
       "      <td>0.000937</td>\n",
       "      <td>0.006513</td>\n",
       "      <td>0.003706</td>\n",
       "      <td>0.000224</td>\n",
       "      <td>0.003653</td>\n",
       "      <td>0.000062</td>\n",
       "      <td>0.008697</td>\n",
       "      <td>0.004843</td>\n",
       "      <td>0.002611</td>\n",
       "      <td>...</td>\n",
       "      <td>0.596002</td>\n",
       "      <td>0.006783</td>\n",
       "      <td>0.044408</td>\n",
       "      <td>0.550140</td>\n",
       "      <td>0.626816</td>\n",
       "      <td>0.238232</td>\n",
       "      <td>0.000671</td>\n",
       "      <td>0.610205</td>\n",
       "      <td>0.008940</td>\n",
       "      <td>0.0</td>\n",
       "    </tr>\n",
       "  </tbody>\n",
       "</table>\n",
       "<p>5 rows × 104 columns</p>\n",
       "</div>"
      ],
      "text/plain": [
       "   货币资金_单位:元  应收票据_单位:元  应收账款_单位:元  预付款项_单位:元  其他应收款_单位:元   存货_单位:元  \\\n",
       "0   0.043658   0.017122   0.037836   0.001069    0.001033  0.004901   \n",
       "1   0.065686   0.224587   0.031649   0.011060    0.024677  0.054893   \n",
       "2   0.097595   0.002801   0.104322   0.004276    0.010813  0.034570   \n",
       "3   0.064752   0.000038   0.030954   0.002820    0.019381  0.017779   \n",
       "4   0.003736   0.000937   0.006513   0.003706    0.000224  0.003653   \n",
       "\n",
       "   其他流动资产_单位:元  流动资产合计_单位:元  可供出售金融资产_单位:元  长期股权投资_单位:元  ...  \\\n",
       "0     0.007244     0.049369       0.004968     0.003934  ...   \n",
       "1     0.001427     0.180705       0.006369     0.002588  ...   \n",
       "2     0.051774     0.138822       0.000239     0.012587  ...   \n",
       "3     0.107595     0.097885       0.021850     0.019459  ...   \n",
       "4     0.000062     0.008697       0.004843     0.002611  ...   \n",
       "\n",
       "   净利润(净亏损以“－”号填列)_单位:元  营业税金及附加_单位:元  营业外支出_单位:元  持续经营净利润_单位:元  \\\n",
       "0              0.601288      0.006715    0.044213      0.553713   \n",
       "1              0.626670      0.022471    0.044814      0.575574   \n",
       "2              0.625216      0.010722    0.044503      0.568297   \n",
       "3              0.601181      0.012661    0.045280      0.559866   \n",
       "4              0.596002      0.006783    0.044408      0.550140   \n",
       "\n",
       "   归属于少数股东的综合收益总额_单位:元  所得税费用_单位:元  营业外收入_单位:元  少数股东损益_单位:元  营业总成本_单位:元  \\\n",
       "0             0.629963    0.245617    0.002322     0.613349    0.010308   \n",
       "1             0.643846    0.267828    0.003111     0.627212    0.134279   \n",
       "2             0.638237    0.256970    0.008353     0.621611    0.037501   \n",
       "3             0.626331    0.244289    0.002507     0.609722    0.058466   \n",
       "4             0.626816    0.238232    0.000671     0.610205    0.008940   \n",
       "\n",
       "   是否在当年造假_单位:nan  \n",
       "0             0.0  \n",
       "1             0.0  \n",
       "2             0.0  \n",
       "3             0.0  \n",
       "4             0.0  \n",
       "\n",
       "[5 rows x 104 columns]"
      ]
     },
     "execution_count": 23,
     "metadata": {},
     "output_type": "execute_result"
    }
   ],
   "source": [
    "zhizaoye_data2=pd.DataFrame(zhizaoye_data2,columns=zhizaoye_data2_columns)\n",
    "zhizaoye_data2.head()"
   ]
  },
  {
   "cell_type": "markdown",
   "id": "95976214",
   "metadata": {},
   "source": [
    "## 数据特征的提取和筛选"
   ]
  },
  {
   "cell_type": "markdown",
   "id": "e73d8bb1",
   "metadata": {},
   "source": [
    "高相关滤波（High Correlation filter）"
   ]
  },
  {
   "cell_type": "code",
   "execution_count": 24,
   "id": "c8a84632",
   "metadata": {
    "ExecuteTime": {
     "end_time": "2021-06-20T09:07:45.869292Z",
     "start_time": "2021-06-20T09:07:45.052862Z"
    }
   },
   "outputs": [
    {
     "name": "stdout",
     "output_type": "stream",
     "text": [
      "处理之后特征的个数变为： 71\n"
     ]
    }
   ],
   "source": [
    "def HighCorrelationFilter(data,index_column):\n",
    "    corr = data.loc[:, index_column].corr()\n",
    "    for i in index_column:\n",
    "        for j in index_column:\n",
    "            if corr[i][j] > 0.8 and i != j:  # setting the threshold as 20%\n",
    "                index_column.remove(j)\n",
    "    new_columns = index_column\n",
    "    return new_columns\n",
    "\n",
    "zhizaoye_data2_columns=HighCorrelationFilter(zhizaoye_data2,list(zhizaoye_data2_columns))\n",
    "zhizaoye_feature_data=zhizaoye_data2[zhizaoye_data2_columns]\n",
    "print(\"处理之后特征的个数变为：\",len(zhizaoye_data2_columns))"
   ]
  },
  {
   "cell_type": "code",
   "execution_count": 25,
   "id": "0bfd025f",
   "metadata": {
    "ExecuteTime": {
     "end_time": "2021-06-20T09:07:48.126840Z",
     "start_time": "2021-06-20T09:07:45.873238Z"
    }
   },
   "outputs": [],
   "source": [
    "X = np.array(zhizaoye_feature_data.iloc[:,:-1])\n",
    "y = np.array(zhizaoye_feature_data['是否在当年造假_单位:nan'])\n",
    "clf = ExtraTreesClassifier()\n",
    "clf = clf.fit(X, y)"
   ]
  },
  {
   "cell_type": "code",
   "execution_count": 26,
   "id": "e1cd355e",
   "metadata": {
    "ExecuteTime": {
     "end_time": "2021-06-20T09:07:48.943220Z",
     "start_time": "2021-06-20T09:07:48.130541Z"
    }
   },
   "outputs": [
    {
     "name": "stdout",
     "output_type": "stream",
     "text": [
      "前十个重要的特征： ['营业外支出_单位:元', '资产减值损失_单位:元', '资产处置收益_单位:元', '其他应收款_单位:元', '应付利息_单位:元', '未分配利润_单位:元', '收到其他与经营活动有关的现金_单位:元', '实收资本(或股本)_单位:元', '其他应付款_单位:元', '营业外收入_单位:元']\n"
     ]
    },
    {
     "data": {
      "image/png": "[encoded data removed]",
      "text/plain": [
       "<Figure size 720x504 with 1 Axes>"
      ]
     },
     "metadata": {
      "needs_background": "light"
     },
     "output_type": "display_data"
    }
   ],
   "source": [
    "#打印前十个重要特征\n",
    "arr = np.array(clf.feature_importances_  )\n",
    "vital_columns=[zhizaoye_feature_data.columns[i] for i in np.argsort(-arr)]\n",
    "print(\"前十个重要的特征：\",vital_columns[:10])\n",
    "#做特征重要程度表\n",
    "bar_values=np.sort(arr[:20])\n",
    "x_labels=[zhizaoye_feature_data.columns[i] for i in np.argsort(arr[:20])]\n",
    "plt.figure(figsize=(10,7))\n",
    "plt.title(\"数据集中前20个特征的重要程度排序\",fontsize = 18)\n",
    "plt.ylabel(\"important_level\",fontsize = 15,rotation=90)\n",
    "plt.bar(range(len(bar_values)), bar_values)\n",
    "plt.xticks(np.arange(len(bar_values)),x_labels,rotation=90,fontsize=15)\n",
    "plt.show()"
   ]
  },
  {
   "cell_type": "code",
   "execution_count": 27,
   "id": "9bc5bd7c",
   "metadata": {
    "ExecuteTime": {
     "end_time": "2021-06-20T09:07:48.969186Z",
     "start_time": "2021-06-20T09:07:48.947236Z"
    }
   },
   "outputs": [
    {
     "data": {
      "text/html": [
       "<div>\n",
       "<style scoped>\n",
       "    .dataframe tbody tr th:only-of-type {\n",
       "        vertical-align: middle;\n",
       "    }\n",
       "\n",
       "    .dataframe tbody tr th {\n",
       "        vertical-align: top;\n",
       "    }\n",
       "\n",
       "    .dataframe thead th {\n",
       "        text-align: right;\n",
       "    }\n",
       "</style>\n",
       "<table border=\"1\" class=\"dataframe\">\n",
       "  <thead>\n",
       "    <tr style=\"text-align: right;\">\n",
       "      <th></th>\n",
       "      <th>营业外支出_单位:元</th>\n",
       "      <th>资产处置收益_单位:元</th>\n",
       "      <th>其他应收款_单位:元</th>\n",
       "      <th>应付利息_单位:元</th>\n",
       "      <th>未分配利润_单位:元</th>\n",
       "      <th>收到其他与经营活动有关的现金_单位:元</th>\n",
       "      <th>实收资本(或股本)_单位:元</th>\n",
       "      <th>其他应付款_单位:元</th>\n",
       "      <th>营业外收入_单位:元</th>\n",
       "      <th>是否在当年造假_单位:nan</th>\n",
       "    </tr>\n",
       "  </thead>\n",
       "  <tbody>\n",
       "    <tr>\n",
       "      <th>0</th>\n",
       "      <td>0.044213</td>\n",
       "      <td>0.930841</td>\n",
       "      <td>0.001033</td>\n",
       "      <td>0.000016</td>\n",
       "      <td>0.499127</td>\n",
       "      <td>0.000921</td>\n",
       "      <td>0.033077</td>\n",
       "      <td>0.000051</td>\n",
       "      <td>0.002322</td>\n",
       "      <td>0.0</td>\n",
       "    </tr>\n",
       "    <tr>\n",
       "      <th>1</th>\n",
       "      <td>0.044814</td>\n",
       "      <td>0.930882</td>\n",
       "      <td>0.024677</td>\n",
       "      <td>0.002191</td>\n",
       "      <td>0.532504</td>\n",
       "      <td>0.004560</td>\n",
       "      <td>0.059740</td>\n",
       "      <td>0.015625</td>\n",
       "      <td>0.003111</td>\n",
       "      <td>0.0</td>\n",
       "    </tr>\n",
       "    <tr>\n",
       "      <th>2</th>\n",
       "      <td>0.044503</td>\n",
       "      <td>0.942960</td>\n",
       "      <td>0.010813</td>\n",
       "      <td>0.000570</td>\n",
       "      <td>0.519269</td>\n",
       "      <td>0.013909</td>\n",
       "      <td>0.074565</td>\n",
       "      <td>0.009045</td>\n",
       "      <td>0.008353</td>\n",
       "      <td>0.0</td>\n",
       "    </tr>\n",
       "    <tr>\n",
       "      <th>3</th>\n",
       "      <td>0.045280</td>\n",
       "      <td>0.931540</td>\n",
       "      <td>0.019381</td>\n",
       "      <td>0.000986</td>\n",
       "      <td>0.505436</td>\n",
       "      <td>0.001654</td>\n",
       "      <td>0.026910</td>\n",
       "      <td>0.004275</td>\n",
       "      <td>0.002507</td>\n",
       "      <td>0.0</td>\n",
       "    </tr>\n",
       "    <tr>\n",
       "      <th>4</th>\n",
       "      <td>0.044408</td>\n",
       "      <td>0.930882</td>\n",
       "      <td>0.000224</td>\n",
       "      <td>0.000082</td>\n",
       "      <td>0.491508</td>\n",
       "      <td>0.000575</td>\n",
       "      <td>0.005606</td>\n",
       "      <td>0.000018</td>\n",
       "      <td>0.000671</td>\n",
       "      <td>0.0</td>\n",
       "    </tr>\n",
       "  </tbody>\n",
       "</table>\n",
       "</div>"
      ],
      "text/plain": [
       "   营业外支出_单位:元  资产处置收益_单位:元  其他应收款_单位:元  应付利息_单位:元  未分配利润_单位:元  \\\n",
       "0    0.044213     0.930841    0.001033   0.000016    0.499127   \n",
       "1    0.044814     0.930882    0.024677   0.002191    0.532504   \n",
       "2    0.044503     0.942960    0.010813   0.000570    0.519269   \n",
       "3    0.045280     0.931540    0.019381   0.000986    0.505436   \n",
       "4    0.044408     0.930882    0.000224   0.000082    0.491508   \n",
       "\n",
       "   收到其他与经营活动有关的现金_单位:元  实收资本(或股本)_单位:元  其他应付款_单位:元  营业外收入_单位:元  是否在当年造假_单位:nan  \n",
       "0             0.000921        0.033077    0.000051    0.002322             0.0  \n",
       "1             0.004560        0.059740    0.015625    0.003111             0.0  \n",
       "2             0.013909        0.074565    0.009045    0.008353             0.0  \n",
       "3             0.001654        0.026910    0.004275    0.002507             0.0  \n",
       "4             0.000575        0.005606    0.000018    0.000671             0.0  "
      ]
     },
     "execution_count": 27,
     "metadata": {},
     "output_type": "execute_result"
    }
   ],
   "source": [
    "selected_features=vital_columns[:10]\n",
    "selected_features.append('是否在当年造假_单位:nan')\n",
    "selected_features.remove('资产减值损失_单位:元')\n",
    "zhizaoye_feature_data=zhizaoye_feature_data[selected_features]\n",
    "zhizaoye_feature_data.head()"
   ]
  },
  {
   "cell_type": "markdown",
   "id": "05012bb2",
   "metadata": {},
   "source": [
    "## 不平衡数据处理"
   ]
  },
  {
   "cell_type": "markdown",
   "id": "73eee515",
   "metadata": {},
   "source": [
    "查看数据标签比例情况"
   ]
  },
  {
   "cell_type": "code",
   "execution_count": 28,
   "id": "7ff797d9",
   "metadata": {
    "ExecuteTime": {
     "end_time": "2021-06-20T09:07:48.990337Z",
     "start_time": "2021-06-20T09:07:48.973384Z"
    }
   },
   "outputs": [
    {
     "data": {
      "text/plain": [
       "Counter({0.0: 10396, 1.0: 85})"
      ]
     },
     "execution_count": 28,
     "metadata": {},
     "output_type": "execute_result"
    }
   ],
   "source": [
    "Counter(zhizaoye_feature_data['是否在当年造假_单位:nan'])"
   ]
  },
  {
   "cell_type": "code",
   "execution_count": 29,
   "id": "6792dc41",
   "metadata": {
    "ExecuteTime": {
     "end_time": "2021-06-20T09:07:49.628487Z",
     "start_time": "2021-06-20T09:07:48.992351Z"
    }
   },
   "outputs": [
    {
     "data": {
      "image/png": "[encoded data removed]",
      "text/plain": [
       "<Figure size 720x360 with 2 Axes>"
      ]
     },
     "metadata": {
      "needs_background": "light"
     },
     "output_type": "display_data"
    }
   ],
   "source": [
    "fig, axs = plt.subplots(1,2,figsize=(10,5))\n",
    "\n",
    "sns.countplot(ax=axs[0],x='是否在当年造假_单位:nan',data=zhizaoye_feature_data)\n",
    "axs[0].set_xlabel(\"isFraud\",fontsize=15)\n",
    "axs[0].set_ylabel(\"count\",fontsize=15)\n",
    "axs[0].set_title(\"Frequency of each Class\",fontsize=20)\n",
    "\n",
    "zhizaoye_feature_data['是否在当年造假_单位:nan'].value_counts().plot(ax=axs[1],kind='pie',autopct='%1.2f%%',label=\"\",fontsize=15)\n",
    "axs[1].set_title(\"Percentage of each Class\",fontsize=20)\n",
    "\n",
    "plt.show()"
   ]
  },
  {
   "cell_type": "code",
   "execution_count": 30,
   "id": "7500655d",
   "metadata": {
    "ExecuteTime": {
     "end_time": "2021-06-20T09:07:49.657389Z",
     "start_time": "2021-06-20T09:07:49.632432Z"
    }
   },
   "outputs": [],
   "source": [
    "X_train,X_test,y_train,y_test=train_test_split(zhizaoye_feature_data.iloc[:,:-1],\n",
    "                                               zhizaoye_feature_data['是否在当年造假_单位:nan'],\n",
    "                                               test_size=0.3, random_state=44)"
   ]
  },
  {
   "cell_type": "code",
   "execution_count": 31,
   "id": "83a1a219",
   "metadata": {
    "ExecuteTime": {
     "end_time": "2021-06-20T09:07:50.913211Z",
     "start_time": "2021-06-20T09:07:49.662374Z"
    }
   },
   "outputs": [
    {
     "name": "stdout",
     "output_type": "stream",
     "text": [
      "[(0.0, 6283), (1.0, 7203)]\n"
     ]
    }
   ],
   "source": [
    "from imblearn.combine import SMOTEENN\n",
    "smote_enn = SMOTEENN(random_state=0)\n",
    "X_train_resampled, y_train_resampled = smote_enn.fit_sample(X_train, y_train)\n",
    "\n",
    "print(sorted(Counter(y_train_resampled).items()))"
   ]
  },
  {
   "cell_type": "markdown",
   "id": "98c01312",
   "metadata": {},
   "source": [
    "## 使用随机森林训练机器学习模型"
   ]
  },
  {
   "cell_type": "code",
   "execution_count": 32,
   "id": "2a3ce39a",
   "metadata": {
    "ExecuteTime": {
     "end_time": "2021-06-20T09:07:51.764893Z",
     "start_time": "2021-06-20T09:07:50.917160Z"
    }
   },
   "outputs": [
    {
     "name": "stdout",
     "output_type": "stream",
     "text": [
      "0.6931637519872814\n"
     ]
    }
   ],
   "source": [
    "class_weight = dict({0:1, 1:1})\n",
    "forest = RandomForestClassifier(\n",
    "#与表单中的类关联的权重。如果没有给出，所有类都应该有一个权重。\n",
    "   class_weight=class_weight,\n",
    "#树的最大深度。如果没有，则扩展节点直到所有叶子\n",
    "            max_depth=8,\n",
    "            n_estimators=50,\n",
    "            min_samples_split=4,\n",
    "            min_samples_leaf=4,\n",
    "            min_weight_fraction_leaf=0.2,\n",
    "            random_state=3\n",
    "    \n",
    ")\n",
    "forest.fit(X_train_resampled, y_train_resampled)\n",
    "print(forest.score(X_test,y_test))#0.7best"
   ]
  },
  {
   "cell_type": "markdown",
   "id": "e1602927",
   "metadata": {},
   "source": [
    "# 制造业分类模型评价"
   ]
  },
  {
   "cell_type": "markdown",
   "id": "7b3a15e0",
   "metadata": {},
   "source": [
    "## 绘制混淆矩阵"
   ]
  },
  {
   "cell_type": "code",
   "execution_count": 33,
   "id": "9865d302",
   "metadata": {
    "ExecuteTime": {
     "end_time": "2021-06-20T09:07:51.776913Z",
     "start_time": "2021-06-20T09:07:51.768912Z"
    }
   },
   "outputs": [],
   "source": [
    "def plot_confusion_matrix(confusion_mat):\n",
    "    plt.imshow(confusion_mat,interpolation='nearest',cmap=plt.cm.Paired)\n",
    "    plt.title('Confusion Matrix')\n",
    "    plt.colorbar()\n",
    "    tick_marks=np.arange(2)\n",
    "    plt.xticks(tick_marks,tick_marks)\n",
    "    plt.yticks(tick_marks,tick_marks)\n",
    "    plt.ylabel('True Label')\n",
    "    plt.xlabel('Predicted Label')\n",
    "    plt.show()"
   ]
  },
  {
   "cell_type": "code",
   "execution_count": 34,
   "id": "b358bede",
   "metadata": {
    "ExecuteTime": {
     "end_time": "2021-06-20T09:07:51.791439Z",
     "start_time": "2021-06-20T09:07:51.779078Z"
    }
   },
   "outputs": [
    {
     "data": {
      "text/plain": [
       "Counter({0.0: 3121, 1.0: 24})"
      ]
     },
     "execution_count": 34,
     "metadata": {},
     "output_type": "execute_result"
    }
   ],
   "source": [
    "Counter(y_test)"
   ]
  },
  {
   "cell_type": "code",
   "execution_count": 35,
   "id": "9c5d420c",
   "metadata": {
    "ExecuteTime": {
     "end_time": "2021-06-20T09:07:52.142485Z",
     "start_time": "2021-06-20T09:07:51.794207Z"
    }
   },
   "outputs": [
    {
     "name": "stdout",
     "output_type": "stream",
     "text": [
      "[[2164  957]\n",
      " [   8   16]]\n"
     ]
    },
    {
     "data": {
      "image/png": "[encoded data removed]",
      "text/plain": [
       "<Figure size 432x288 with 2 Axes>"
      ]
     },
     "metadata": {
      "needs_background": "light"
     },
     "output_type": "display_data"
    }
   ],
   "source": [
    "y_pre = forest.predict(X_test)\n",
    "C=confusion_matrix(y_test, y_pre)\n",
    "print(C)\n",
    "plot_confusion_matrix(C)"
   ]
  },
  {
   "cell_type": "markdown",
   "id": "311bc682",
   "metadata": {},
   "source": [
    "## ROC曲线AUC值"
   ]
  },
  {
   "cell_type": "code",
   "execution_count": 36,
   "id": "09af41cb",
   "metadata": {
    "ExecuteTime": {
     "end_time": "2021-06-20T09:07:52.158067Z",
     "start_time": "2021-06-20T09:07:52.147268Z"
    }
   },
   "outputs": [],
   "source": [
    "fpr, tpr, thresholds=roc_curve(y_test, y_pre,pos_label=None,sample_weight=None,drop_intermediate=True)"
   ]
  },
  {
   "cell_type": "code",
   "execution_count": 37,
   "id": "c621589b",
   "metadata": {
    "ExecuteTime": {
     "end_time": "2021-06-20T09:07:52.175077Z",
     "start_time": "2021-06-20T09:07:52.161433Z"
    }
   },
   "outputs": [],
   "source": [
    "def plot_roc(labels, predict_prob,name):\n",
    "    false_positive_rate,true_positive_rate,thresholds=roc_curve(labels, predict_prob)\n",
    "    roc_auc=auc(false_positive_rate, true_positive_rate)\n",
    "    plt.title('ROC'+\"_\" +name)\n",
    "    plt.plot(false_positive_rate, true_positive_rate,'b',label='AUC = %0.4f'% roc_auc)\n",
    "    plt.legend(loc='lower right')\n",
    "    plt.plot([0,1],[0,1],'r--')\n",
    "    plt.ylabel('TPR')\n",
    "    plt.xlabel('FPR')\n",
    "    plt.show()"
   ]
  },
  {
   "cell_type": "code",
   "execution_count": 38,
   "id": "861d2cae",
   "metadata": {
    "ExecuteTime": {
     "end_time": "2021-06-20T09:07:52.511818Z",
     "start_time": "2021-06-20T09:07:52.177393Z"
    }
   },
   "outputs": [
    {
     "data": {
      "image/png": "[encoded data removed]",
      "text/plain": [
       "<Figure size 432x288 with 1 Axes>"
      ]
     },
     "metadata": {
      "needs_background": "light"
     },
     "output_type": "display_data"
    }
   ],
   "source": [
    "plt.figure()\n",
    "plot_roc(y_test, y_pre,'随机森林')\n",
    "#plot_roc(Ytest,y_pre_cgbc,'XGBoost')"
   ]
  },
  {
   "cell_type": "markdown",
   "id": "2541ea09",
   "metadata": {},
   "source": [
    "保存模型"
   ]
  },
  {
   "cell_type": "code",
   "execution_count": 39,
   "id": "b906c450",
   "metadata": {
    "ExecuteTime": {
     "end_time": "2021-06-20T09:07:52.581994Z",
     "start_time": "2021-06-20T09:07:52.515682Z"
    }
   },
   "outputs": [
    {
     "data": {
      "text/plain": [
       "['forest_制造业.pkl']"
      ]
     },
     "execution_count": 39,
     "metadata": {},
     "output_type": "execute_result"
    }
   ],
   "source": [
    "joblib.dump(forest,\"forest_制造业.pkl\")"
   ]
  },
  {
   "cell_type": "markdown",
   "id": "f307b5e4",
   "metadata": {},
   "source": [
    "# 预测制造业第 6 年财务数据造假的上市公司"
   ]
  },
  {
   "cell_type": "code",
   "execution_count": 40,
   "id": "bbb1d8bb",
   "metadata": {
    "ExecuteTime": {
     "end_time": "2021-06-20T09:07:53.803918Z",
     "start_time": "2021-06-20T09:07:52.584966Z"
    }
   },
   "outputs": [],
   "source": [
    "zhizaoye0 = pd.read_csv(r'制造业.csv')\n",
    "zhizaoye0=zhizaoye0[pd.isnull(zhizaoye0['是否在当年造假_单位:nan'])]\n",
    "zhizaoye0=zhizaoye0[['股票代码_单位:nan']+selected_features]\n",
    "zhizaoye0=zhizaoye0.reset_index(drop=\"True\")"
   ]
  },
  {
   "cell_type": "code",
   "execution_count": 41,
   "id": "b15b1096",
   "metadata": {
    "ExecuteTime": {
     "end_time": "2021-06-20T09:07:54.323537Z",
     "start_time": "2021-06-20T09:07:53.807865Z"
    }
   },
   "outputs": [],
   "source": [
    "zhizaoye=zhizaoye0.iloc[:,1:-1]\n",
    "#方便后面从列表变回dataframe\n",
    "zhizaoye_columns=zhizaoye.columns\n",
    "#调用KNN填充所有缺失数据\n",
    "imputer = KNNImputer(n_neighbors=1)\n",
    "zhizaoye= imputer.fit_transform(zhizaoye)\n",
    "zhizaoye=pd.DataFrame(zhizaoye)"
   ]
  },
  {
   "cell_type": "code",
   "execution_count": 42,
   "id": "5e13320f",
   "metadata": {
    "ExecuteTime": {
     "end_time": "2021-06-20T09:07:54.355041Z",
     "start_time": "2021-06-20T09:07:54.326590Z"
    }
   },
   "outputs": [],
   "source": [
    "#除掉异常值\n",
    "Q1 = zhizaoye.quantile(0.25)\n",
    "Q3 =zhizaoye.quantile(0.75)\n",
    "IQR = Q3 - Q1\n",
    "nan_means_noproblem=zhizaoye[(zhizaoye < (Q1 - 1.5 * IQR)) | (zhizaoye> (Q3 + 1.5 * IQR))]\n",
    "rows_not_null = nan_means_noproblem.count(axis=1) \n",
    "problem_index=rows_not_null[rows_not_null>60].index\n",
    "selected_index=list(set(zhizaoye.index).difference(set(problem_index)))\n",
    "zhizaoye=zhizaoye.iloc[selected_index]"
   ]
  },
  {
   "cell_type": "code",
   "execution_count": 43,
   "id": "576c13ee",
   "metadata": {
    "ExecuteTime": {
     "end_time": "2021-06-20T09:07:54.427826Z",
     "start_time": "2021-06-20T09:07:54.359881Z"
    }
   },
   "outputs": [
    {
     "data": {
      "text/html": [
       "<div>\n",
       "<style scoped>\n",
       "    .dataframe tbody tr th:only-of-type {\n",
       "        vertical-align: middle;\n",
       "    }\n",
       "\n",
       "    .dataframe tbody tr th {\n",
       "        vertical-align: top;\n",
       "    }\n",
       "\n",
       "    .dataframe thead th {\n",
       "        text-align: right;\n",
       "    }\n",
       "</style>\n",
       "<table border=\"1\" class=\"dataframe\">\n",
       "  <thead>\n",
       "    <tr style=\"text-align: right;\">\n",
       "      <th></th>\n",
       "      <th>营业外支出_单位:元</th>\n",
       "      <th>资产处置收益_单位:元</th>\n",
       "      <th>其他应收款_单位:元</th>\n",
       "      <th>应付利息_单位:元</th>\n",
       "      <th>未分配利润_单位:元</th>\n",
       "      <th>收到其他与经营活动有关的现金_单位:元</th>\n",
       "      <th>实收资本(或股本)_单位:元</th>\n",
       "      <th>其他应付款_单位:元</th>\n",
       "      <th>营业外收入_单位:元</th>\n",
       "    </tr>\n",
       "  </thead>\n",
       "  <tbody>\n",
       "    <tr>\n",
       "      <th>0</th>\n",
       "      <td>0.004582</td>\n",
       "      <td>0.065226</td>\n",
       "      <td>0.005859</td>\n",
       "      <td>0.001642</td>\n",
       "      <td>0.086819</td>\n",
       "      <td>0.020577</td>\n",
       "      <td>0.015786</td>\n",
       "      <td>0.000943</td>\n",
       "      <td>0.000488</td>\n",
       "    </tr>\n",
       "    <tr>\n",
       "      <th>1</th>\n",
       "      <td>0.005016</td>\n",
       "      <td>0.063105</td>\n",
       "      <td>0.000184</td>\n",
       "      <td>0.000166</td>\n",
       "      <td>0.088417</td>\n",
       "      <td>0.001937</td>\n",
       "      <td>0.008930</td>\n",
       "      <td>0.001695</td>\n",
       "      <td>0.001737</td>\n",
       "    </tr>\n",
       "    <tr>\n",
       "      <th>2</th>\n",
       "      <td>0.005048</td>\n",
       "      <td>0.106223</td>\n",
       "      <td>0.003579</td>\n",
       "      <td>0.000061</td>\n",
       "      <td>0.096761</td>\n",
       "      <td>0.005905</td>\n",
       "      <td>0.016813</td>\n",
       "      <td>0.005357</td>\n",
       "      <td>0.001103</td>\n",
       "    </tr>\n",
       "    <tr>\n",
       "      <th>3</th>\n",
       "      <td>0.004187</td>\n",
       "      <td>0.063102</td>\n",
       "      <td>0.000158</td>\n",
       "      <td>0.000038</td>\n",
       "      <td>0.083168</td>\n",
       "      <td>0.001235</td>\n",
       "      <td>0.002238</td>\n",
       "      <td>0.000122</td>\n",
       "      <td>0.000223</td>\n",
       "    </tr>\n",
       "    <tr>\n",
       "      <th>4</th>\n",
       "      <td>0.004503</td>\n",
       "      <td>0.071288</td>\n",
       "      <td>0.005864</td>\n",
       "      <td>0.000576</td>\n",
       "      <td>0.097554</td>\n",
       "      <td>0.034471</td>\n",
       "      <td>0.050607</td>\n",
       "      <td>0.000929</td>\n",
       "      <td>0.017010</td>\n",
       "    </tr>\n",
       "  </tbody>\n",
       "</table>\n",
       "</div>"
      ],
      "text/plain": [
       "   营业外支出_单位:元  资产处置收益_单位:元  其他应收款_单位:元  应付利息_单位:元  未分配利润_单位:元  \\\n",
       "0    0.004582     0.065226    0.005859   0.001642    0.086819   \n",
       "1    0.005016     0.063105    0.000184   0.000166    0.088417   \n",
       "2    0.005048     0.106223    0.003579   0.000061    0.096761   \n",
       "3    0.004187     0.063102    0.000158   0.000038    0.083168   \n",
       "4    0.004503     0.071288    0.005864   0.000576    0.097554   \n",
       "\n",
       "   收到其他与经营活动有关的现金_单位:元  实收资本(或股本)_单位:元  其他应付款_单位:元  营业外收入_单位:元  \n",
       "0             0.020577        0.015786    0.000943    0.000488  \n",
       "1             0.001937        0.008930    0.001695    0.001737  \n",
       "2             0.005905        0.016813    0.005357    0.001103  \n",
       "3             0.001235        0.002238    0.000122    0.000223  \n",
       "4             0.034471        0.050607    0.000929    0.017010  "
      ]
     },
     "execution_count": 43,
     "metadata": {},
     "output_type": "execute_result"
    }
   ],
   "source": [
    "#标准化归一化\n",
    "sds=StandardScaler()\n",
    "zhizaoye=sds.fit_transform(zhizaoye)\n",
    "mms = MinMaxScaler()\n",
    "zhizaoye= mms.fit_transform(zhizaoye)\n",
    "zhizaoye=pd.DataFrame(zhizaoye,columns=zhizaoye_columns)\n",
    "zhizaoye.head()"
   ]
  },
  {
   "cell_type": "code",
   "execution_count": 44,
   "id": "8a707ba7",
   "metadata": {
    "ExecuteTime": {
     "end_time": "2021-06-20T09:07:54.450794Z",
     "start_time": "2021-06-20T09:07:54.429812Z"
    }
   },
   "outputs": [],
   "source": [
    "flag_list=forest.predict(zhizaoye)"
   ]
  },
  {
   "cell_type": "code",
   "execution_count": 45,
   "id": "a6e6ca6a",
   "metadata": {
    "ExecuteTime": {
     "end_time": "2021-06-20T09:07:54.460793Z",
     "start_time": "2021-06-20T09:07:54.452779Z"
    }
   },
   "outputs": [
    {
     "data": {
      "text/plain": [
       "Counter({0.0: 2117, 1.0: 543})"
      ]
     },
     "execution_count": 45,
     "metadata": {},
     "output_type": "execute_result"
    }
   ],
   "source": [
    "zhizaoye['预测是否在当年造假_单位:nan']=flag_list\n",
    "Counter(flag_list)"
   ]
  },
  {
   "cell_type": "code",
   "execution_count": 46,
   "id": "aed56c4c",
   "metadata": {
    "ExecuteTime": {
     "end_time": "2021-06-20T09:07:54.476693Z",
     "start_time": "2021-06-20T09:07:54.462703Z"
    }
   },
   "outputs": [],
   "source": [
    "zhizaoye0[zhizaoye['预测是否在当年造假_单位:nan']==1]['股票代码_单位:nan'].to_csv(\"result_2.csv\",index=False)"
   ]
  },
  {
   "cell_type": "code",
   "execution_count": null,
   "id": "6be42d3c",
   "metadata": {},
   "outputs": [],
   "source": []
  }
 ],
 "metadata": {
  "kernelspec": {
   "display_name": "Python 3",
   "language": "python",
   "name": "python3"
  },
  "language_info": {
   "codemirror_mode": {
    "name": "ipython",
    "version": 3
   },
   "file_extension": ".py",
   "mimetype": "text/x-python",
   "name": "python",
   "nbconvert_exporter": "python",
   "pygments_lexer": "ipython3",
   "version": "3.8.8"
  },
  "toc": {
   "base_numbering": 1,
   "nav_menu": {},
   "number_sections": false,
   "sideBar": true,
   "skip_h1_title": false,
   "title_cell": "Table of Contents",
   "title_sidebar": "Contents",
   "toc_cell": true,
   "toc_position": {
    "height": "calc(100% - 180px)",
    "left": "10px",
    "top": "150px",
    "width": "315.833px"
   },
   "toc_section_display": true,
   "toc_window_display": false
  }
 },
 "nbformat": 4,
 "nbformat_minor": 5
}
